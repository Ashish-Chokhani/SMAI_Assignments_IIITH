{
 "cells": [
  {
   "cell_type": "code",
   "execution_count": 22,
   "metadata": {},
   "outputs": [],
   "source": [
    "import sys\n",
    "import warnings\n",
    "from hmmlearn import hmm\n",
    "from matplotlib import pyplot as plt\n",
    "import numpy as np\n",
    "from sklearn.model_selection import train_test_split\n",
    "from sklearn.utils import check_random_state\n",
    "\n",
    "warnings.filterwarnings('ignore')\n",
    "np.set_printoptions(threshold=sys.maxsize)"
   ]
  },
  {
   "cell_type": "code",
   "execution_count": 23,
   "metadata": {},
   "outputs": [],
   "source": [
    "data = np.load('rolls.npy')\n",
    "train = data[:data.shape[0] // 2]\n",
    "valid = data[data.shape[0] // 2:]"
   ]
  },
  {
   "cell_type": "code",
   "execution_count": 24,
   "metadata": {},
   "outputs": [
    {
     "name": "stdout",
     "output_type": "stream",
     "text": [
      "Model: 1 Validation Score: -43180.116445848435\n",
      "Model: 2 Validation Score: -43181.5410496305\n",
      "Model: 3 Validation Score: -43183.2054566299\n",
      "Model: 4 Validation Score: -43170.50902764757\n",
      "Model: 5 Validation Score: -43172.524149448465\n",
      "Model: 6 Validation Score: -43173.94614264155\n",
      "Model: 7 Validation Score: -43177.36617312016\n",
      "Model: 8 Validation Score: -43183.65143689056\n",
      "Model: 9 Validation Score: -43175.36586824731\n",
      "Model: 10 Validation Score: -43182.55579947923\n",
      "Model: 11 Validation Score: -43181.869616659416\n",
      "Model: 12 Validation Score: -43146.834337869885\n",
      "Model: 13 Validation Score: -43182.53761032723\n",
      "Model: 14 Validation Score: -43183.23603583036\n",
      "Model: 15 Validation Score: -43177.45841351089\n",
      "Model: 16 Validation Score: -43178.00584525121\n",
      "Model: 17 Validation Score: -43167.36029422893\n",
      "Model: 18 Validation Score: -43177.95715442283\n",
      "Model: 19 Validation Score: -43183.26712974214\n",
      "Model: 20 Validation Score: -43182.50947339914\n",
      "Model: 21 Validation Score: -43178.79078419242\n",
      "Model: 22 Validation Score: -43184.43463587881\n",
      "Model: 23 Validation Score: -43181.40226817027\n",
      "Model: 24 Validation Score: -43159.18824547707\n",
      "Model: 25 Validation Score: -43182.435202111235\n",
      "Model: 26 Validation Score: -43183.02058870191\n",
      "Model: 27 Validation Score: -43183.00516935163\n",
      "Model: 28 Validation Score: -43152.66526666928\n",
      "Model: 29 Validation Score: -43168.17952276738\n",
      "Model: 30 Validation Score: -43177.42435830786\n",
      "Model: 31 Validation Score: -43184.396595046775\n",
      "Model: 32 Validation Score: -43179.72775022447\n",
      "Model: 33 Validation Score: -43184.29261395638\n",
      "Model: 34 Validation Score: -43183.81768816511\n",
      "Model: 35 Validation Score: -43183.58222954514\n",
      "Model: 36 Validation Score: -43183.09577913355\n",
      "Model: 37 Validation Score: -43162.40995467005\n",
      "Model: 38 Validation Score: -43181.44954503535\n",
      "Model: 39 Validation Score: -43182.438929482036\n",
      "Model: 40 Validation Score: -43183.72450136628\n",
      "Model: 41 Validation Score: -43182.92145625822\n",
      "Model: 42 Validation Score: -43181.676852508754\n",
      "Model: 43 Validation Score: -43175.83762834348\n",
      "Model: 44 Validation Score: -43163.2644816926\n",
      "Model: 45 Validation Score: -43182.681617922666\n",
      "Model: 46 Validation Score: -43182.32670152265\n",
      "Model: 47 Validation Score: -43164.44480626689\n",
      "Model: 48 Validation Score: -43182.3987543314\n",
      "Model: 49 Validation Score: -43182.63897176775\n",
      "Model: 50 Validation Score: -43179.63472233664\n",
      "Best model\n",
      " Initial Emission Probabilities: [[0.16666667 0.16666667 0.16666667 0.16666667 0.16666667 0.16666667]\n",
      " [0.01722285 0.36060654 0.15718997 0.06826511 0.35877435 0.03794118]] Validation Score: -43146.834337869885\n"
     ]
    }
   ],
   "source": [
    "import numpy as np\n",
    "from sklearn.utils import check_random_state\n",
    "from hmmlearn import hmm\n",
    "\n",
    "start_probs = np.array([1.0, 0.0])\n",
    "probabilities = [\n",
    "    [0.5, 0.1, 0.1, 0.1, 0.1, 0.1],\n",
    "    [0.1, 0.3, 0.3, 0.1, 0.1, 0.1],\n",
    "    [0.1, 0.1, 0.1, 0.4, 0.2, 0.1],\n",
    "]\n",
    "\n",
    "np.random.seed(13)\n",
    "random_state = check_random_state(13)\n",
    "probabilities = random_state.dirichlet(np.ones(6), size=50)\n",
    "\n",
    "best_probs = None\n",
    "best_score = None\n",
    "best_model = None\n",
    "\n",
    "for i, probs in enumerate(probabilities):\n",
    "    temp = np.full((6,), 1/6)\n",
    "    emission_probs = np.array([temp, probs])\n",
    "    model = hmm.CategoricalHMM(n_components=2, random_state=13)\n",
    "    model.init_params = 't'\n",
    "    model.startprob_ = start_probs\n",
    "    model.emissionprob_ = emission_probs\n",
    "    \n",
    "    model.fit(train)\n",
    "    score = model.score(valid)\n",
    "    print(f'Model: {i + 1} Validation Score: {score}')\n",
    "    \n",
    "    if best_score is None or score > best_score:\n",
    "        best_score = score\n",
    "        best_model = model\n",
    "        best_probs = emission_probs\n",
    "\n",
    "print(f'Best model\\n Initial Emission Probabilities: {emission_probs} Validation Score: {best_score}')\n"
   ]
  },
  {
   "cell_type": "code",
   "execution_count": 25,
   "metadata": {},
   "outputs": [
    {
     "name": "stdout",
     "output_type": "stream",
     "text": [
      "[[0.644 0.356]\n",
      " [0.549 0.451]]\n"
     ]
    }
   ],
   "source": [
    "# Most likely sequence of switching between fair dice and loaded dice -- Transition matrix\n",
    "print(best_model.transmat_.round(3))"
   ]
  },
  {
   "cell_type": "code",
   "execution_count": 26,
   "metadata": {},
   "outputs": [
    {
     "data": {
      "image/png": "[encoded data removed]",
      "text/plain": [
       "<Figure size 1000x600 with 1 Axes>"
      ]
     },
     "metadata": {},
     "output_type": "display_data"
    }
   ],
   "source": [
    "# Plot the generated states\n",
    "states = best_model.predict(valid)\n",
    "plt.figure(figsize=(10, 6))\n",
    "plt.step(range(len(states)), states, label='Predicted States', where='mid')\n",
    "plt.xlabel('Time step')\n",
    "plt.ylabel('Hidden State')\n",
    "plt.title('Predicted Hidden States')\n",
    "plt.legend()\n",
    "plt.show()"
   ]
  },
  {
   "cell_type": "markdown",
   "metadata": {},
   "source": [
    "# Task 3.4.2:\n",
    "\n",
    "- Predicting the hidden states on the validation set and printing the most likely sequence corresponds to solving the decoding problem.\n",
    "- The HMM model has already been trained on the training set, and now we want to apply it to the validation set to predict the hidden states.\n",
    "- Solving the decoding problem in HMM involves finding the most likely sequence of hidden states given a sequence of observed data"
   ]
  },
  {
   "cell_type": "code",
   "execution_count": 28,
   "metadata": {},
   "outputs": [
    {
     "name": "stdout",
     "output_type": "stream",
     "text": [
      "Switches from fair to loaded dice: 4472\n",
      "Switches from loaded to fair dice: 4472\n"
     ]
    }
   ],
   "source": [
    "# Switch between the fair and loaded dice\n",
    "def count_switches(states):\n",
    "    ftol_count, ltof_count = 0, 0\n",
    "    prev_state = states[0]\n",
    "\n",
    "    for current_state in states[1:]:\n",
    "        if prev_state == 0 and current_state == 1:\n",
    "            ftol_count += 1\n",
    "        if prev_state == 1 and current_state == 0:\n",
    "            ltof_count += 1\n",
    "        prev_state = current_state\n",
    "\n",
    "    return ftol_count, ltof_count\n",
    "\n",
    "ftol, ltof = count_switches(states)\n",
    "\n",
    "print(f'Switches from fair to loaded dice: {ftol}')\n",
    "print(f'Switches from loaded to fair dice: {ltof}')"
   ]
  },
  {
   "cell_type": "markdown",
   "metadata": {},
   "source": [
    "- The task 3.4.3 corresponds to learning problem in HMM as the focus is on understanding how often transitions occur between different hidden states. This implies determining the transition probabilities between states based on the provided dataset.\n",
    "The frequency of transitions helps in learning the dynamics of the system. For example, it might reveal whether there is a tendency to stay in the same state or transition to a different state."
   ]
  },
  {
   "cell_type": "code",
   "execution_count": 29,
   "metadata": {},
   "outputs": [
    {
     "name": "stdout",
     "output_type": "stream",
     "text": [
      "[[0.144 0.111 0.051 0.081 0.145 0.469]\n",
      " [0.129 0.179 0.274 0.221 0.132 0.065]]\n"
     ]
    }
   ],
   "source": [
    "# Bias of the loaded dice\n",
    "print(best_model.emissionprob_.round(3))"
   ]
  },
  {
   "cell_type": "markdown",
   "metadata": {},
   "source": [
    "- This bias is reflected in the emission probabilities.\n",
    "- For loaded dice, the emission probabilities suggest that when the hidden state corresponds to the loaded dice, there is a higher probability of getting a 3 and a lower probability of getting a 6.\n",
    "\n",
    "### The task corresponds to learning problem in HMM\n",
    "- The learning problem in HMM involves estimating the model parameters from the observed data. In our case, it's about learning the emission probabilities that characterize the behavior of the loaded dice.\n",
    "- During the learning process, the HMM model is trained on the given dataset, and the parameters, including emission probabilities, are adjusted to maximize the likelihood of the observed data."
   ]
  },
  {
   "cell_type": "code",
   "execution_count": 30,
   "metadata": {},
   "outputs": [
    {
     "name": "stdout",
     "output_type": "stream",
     "text": [
      "Best Score: -50998.50187692966\n",
      "Transition Matrix:\n",
      " [[0.664 0.336]\n",
      " [0.281 0.719]]\n",
      "Emission Probabilities:\n",
      " [[0.114 0.291 0.264 0.06  0.199 0.    0.072]\n",
      " [0.135 0.125 0.104 0.038 0.3   0.    0.298]]\n",
      "Start Probabilities:\n",
      " [0.916 0.084]\n",
      "First ball Player: Virat\n",
      "Last ball Player: Rohit\n"
     ]
    }
   ],
   "source": [
    "# Task 3.4\n",
    "data = np.load('runs.npy')\n",
    "\n",
    "initial_probs = np.array([0.5, 0.5])\n",
    "transition_probs = np.array([[0.7, 0.3], [0.3, 0.7]])\n",
    "emission_probs = np.array([[0.1, 0.3, 0.25, 0.1, 0.2, 0.0, 0.05], [0.2, 0.15, 0.1, 0.05, 0.25, 0.0, 0.25]])\n",
    "\n",
    "num_iterations = 50\n",
    "best_score, best_model = float('-inf'), None\n",
    "\n",
    "for _ in range(num_iterations):\n",
    "    model = hmm.CategoricalHMM(n_components=2, init_params='')\n",
    "    model.startprob_, model.transmat_, model.emissionprob_ = initial_probs, transition_probs, emission_probs\n",
    "\n",
    "    score = model.fit(data).score(data)\n",
    "    if score > best_score:\n",
    "        best_score, best_model = score, model\n",
    "\n",
    "states = best_model.predict(data)\n",
    "print(f'Best Score: {best_score}')\n",
    "print('Transition Matrix:\\n', best_model.transmat_.round(3))\n",
    "print('Emission Probabilities:\\n', best_model.emissionprob_.round(3))\n",
    "print('Start Probabilities:\\n', best_model.startprob_.round(3))\n",
    "\n",
    "first_ball_player = 'Virat' if states[0] == 0 else 'Rohit'\n",
    "last_ball_player = 'Virat' if states[-1] == 0 else 'Rohit'\n",
    "\n",
    "print(f'First ball Player: {first_ball_player}')\n",
    "print(f'Last ball Player: {last_ball_player}')\n"
   ]
  }
 ],
 "metadata": {
  "kernelspec": {
   "display_name": "Python 3",
   "language": "python",
   "name": "python3"
  },
  "language_info": {
   "codemirror_mode": {
    "name": "ipython",
    "version": 3
   },
   "file_extension": ".py",
   "mimetype": "text/x-python",
   "name": "python",
   "nbconvert_exporter": "python",
   "pygments_lexer": "ipython3",
   "version": "3.11.5"
  }
 },
 "nbformat": 4,
 "nbformat_minor": 2
}

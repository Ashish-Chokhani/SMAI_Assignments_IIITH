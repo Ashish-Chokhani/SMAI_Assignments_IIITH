{
 "cells": [
  {
   "cell_type": "code",
   "execution_count": 1,
   "metadata": {},
   "outputs": [
    {
     "name": "stdout",
     "output_type": "stream",
     "text": [
      "Alignment and saving complete.\n"
     ]
    }
   ],
   "source": [
    "#--------------------4.1 Align shapes based on orientation of given template shape-----------\n",
    "import cv2\n",
    "import os\n",
    "import numpy as np\n",
    "\n",
    "dataset_dir = 'KIMIA dataset'\n",
    "template_path = 'KIMIA dataset/skyhawk.png'\n",
    "output_dir = 'output_directory'\n",
    "template = cv2.imread(template_path, cv2.IMREAD_GRAYSCALE)\n",
    "\n",
    "if not os.path.exists(output_dir):\n",
    "    os.makedirs(output_dir)\n",
    "else:\n",
    "    for filename in os.listdir(output_dir):\n",
    "        file_path = os.path.join(output_dir, filename)\n",
    "        try:\n",
    "            if os.path.isfile(file_path):\n",
    "                os.unlink(file_path)\n",
    "        except Exception as e:\n",
    "            print(f\"Error deleting {file_path}: {e}\")\n",
    "\n",
    "\n",
    "threshold = 0.6\n",
    "template_height, template_width = template.shape[:2]\n",
    "\n",
    "\n",
    "for filename in os.listdir(dataset_dir):\n",
    "    if filename.endswith('.png'):\n",
    "        dataset_image_path = os.path.join(dataset_dir, filename)\n",
    "        dataset_image = cv2.imread(dataset_image_path, cv2.IMREAD_GRAYSCALE)\n",
    "        for angle in range(-360,360):\n",
    "            rotation_matrix = cv2.getRotationMatrix2D((template_width / 2, template_height / 2), angle, 1)\n",
    "            rotated_image = cv2.warpAffine(dataset_image, rotation_matrix, (template_width, template_height))\n",
    "            result = cv2.matchTemplate(rotated_image, template, cv2.TM_CCOEFF_NORMED)\n",
    "            min_val, max_val, min_loc, max_loc = cv2.minMaxLoc(result)\n",
    "            if max_val >= threshold:\n",
    "                output_path = os.path.join(output_dir, filename)\n",
    "                cv2.imwrite(output_path, rotated_image)\n",
    "\n",
    "print(\"Alignment and saving complete.\")\n"
   ]
  },
  {
   "cell_type": "markdown",
   "metadata": {},
   "source": [
    "Algorithm used\n",
    "\n",
    "1. Load the template image and convert it to grayscale.\n",
    "2. Create an output directory if it doesn't exist.\n",
    "3. Clear the existing contents of the output directory if it exists.\n",
    "\n",
    "For each image in the dataset directory:\n",
    "\n",
    "4. Load the dataset image and convert it to grayscale.\n",
    "   \n",
    "For each rotation angle from -360 to 360 degrees:\n",
    "\n",
    "5. Rotate the dataset image by the current angle.\n",
    "6. Match the rotated image with the template using template matching.\n",
    "7. Calculate the maximum correlation value (max_val).\n",
    "      \n",
    "If max_val is greater than or equal to the threshold:\n",
    "\n",
    "9. Save the rotated image to the output directory.\n",
    "\n"
   ]
  }
 ],
 "metadata": {
  "kernelspec": {
   "display_name": "Python 3",
   "language": "python",
   "name": "python3"
  },
  "language_info": {
   "codemirror_mode": {
    "name": "ipython",
    "version": 3
   },
   "file_extension": ".py",
   "mimetype": "text/x-python",
   "name": "python",
   "nbconvert_exporter": "python",
   "pygments_lexer": "ipython3",
   "version": "3.11.5"
  },
  "orig_nbformat": 4
 },
 "nbformat": 4,
 "nbformat_minor": 2
}

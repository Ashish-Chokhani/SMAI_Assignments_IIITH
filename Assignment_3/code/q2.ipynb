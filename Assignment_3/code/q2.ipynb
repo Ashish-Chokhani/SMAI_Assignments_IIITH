{
 "cells": [
  {
   "cell_type": "code",
   "execution_count": 1,
   "metadata": {},
   "outputs": [
    {
     "name": "stdout",
     "output_type": "stream",
     "text": [
      "      fixed acidity  volatile acidity  citric acid  residual sugar  chlorides  \\\n",
      "mean       8.311111          0.531339     0.268364        2.532152   0.086933   \n",
      "std        1.747595          0.179633     0.196686        1.355917   0.047267   \n",
      "min        4.600000          0.120000     0.000000        0.900000   0.012000   \n",
      "max       15.900000          1.580000     1.000000       15.500000   0.611000   \n",
      "\n",
      "      free sulfur dioxide  total sulfur dioxide   density        pH  \\\n",
      "mean            15.615486             45.914698  0.996730  3.311015   \n",
      "std             10.250486             32.782130  0.001925  0.156664   \n",
      "min              1.000000              6.000000  0.990070  2.740000   \n",
      "max             68.000000            289.000000  1.003690  4.010000   \n",
      "\n",
      "      sulphates    alcohol   quality  \n",
      "mean   0.657708  10.442111  5.657043  \n",
      "std    0.170399   1.082196  0.805824  \n",
      "min    0.330000   8.400000  3.000000  \n",
      "max    2.000000  14.900000  8.000000  \n"
     ]
    },
    {
     "data": {
      "image/png": "[encoded data removed]",
      "text/plain": [
       "<Figure size 800x600 with 1 Axes>"
      ]
     },
     "metadata": {},
     "output_type": "display_data"
    }
   ],
   "source": [
    "import pandas as pd\n",
    "import matplotlib.pyplot as plt\n",
    "from sklearn.model_selection import train_test_split\n",
    "from sklearn.preprocessing import StandardScaler, MinMaxScaler\n",
    "from sklearn.impute import SimpleImputer\n",
    "\n",
    "#-------Load the dataset and Print the statistics-------------\n",
    "wine_data = pd.read_csv(\"WineQT.csv\")\n",
    "wine_data = wine_data.drop(columns=['Id'])\n",
    "statistics = wine_data.agg(['mean', 'std', 'min', 'max'])\n",
    "print(statistics)\n",
    "\n",
    "#---a graph that shows the distribution of the various labels across the entire dataset----\n",
    "wine_quality = wine_data['quality']\n",
    "\n",
    "plt.figure(figsize=(8, 6))\n",
    "plt.hist(wine_quality, bins=range(3, 10), rwidth=0.8, color='skyblue', edgecolor='black')\n",
    "plt.xlabel('Wine Quality')\n",
    "plt.ylabel('Count')\n",
    "plt.title('Distribution of Wine Quality Labels')\n",
    "plt.xticks(range(3, 10))\n",
    "plt.grid(axis='y', alpha=0.75)\n",
    "plt.show()\n",
    "\n",
    "#---------Split the data into train (70%), validation (15%), and test (15%) sets--------\n",
    "X = wine_data.drop(columns=['quality'])\n",
    "y = wine_data['quality']\n",
    "X_train, X_temp, y_train, y_temp = train_test_split(X, y, test_size=0.3, random_state=42)\n",
    "X_val, X_test, y_val, y_test = train_test_split(X_temp, y_temp, test_size=0.5, random_state=42)\n",
    "\n",
    "#-------------------Normalise and standarize the data------------------\n",
    "# Handle missing data (if any)\n",
    "imputer = SimpleImputer(strategy='mean')\n",
    "X_train = imputer.fit_transform(X_train)\n",
    "X_val = imputer.transform(X_val)\n",
    "X_test = imputer.transform(X_test)\n",
    "\n",
    "# Normalize the data using Min-Max scaling\n",
    "scaler = MinMaxScaler()\n",
    "X_train_normalized = scaler.fit_transform(X_train)\n",
    "X_val_normalized = scaler.transform(X_val)\n",
    "X_test_normalized = scaler.transform(X_test)\n",
    "\n",
    "# Standardize the data (mean=0, std=1) using Z-score scaling\n",
    "scaler = StandardScaler()\n",
    "X_train_standardized = scaler.fit_transform(X_train)\n",
    "X_val_standardized = scaler.transform(X_val)\n",
    "X_test_standardized = scaler.transform(X_test)\n",
    "\n"
   ]
  },
  {
   "cell_type": "code",
   "execution_count": 2,
   "metadata": {},
   "outputs": [],
   "source": [
    "import numpy as np\n",
    "import wandb\n",
    "\n",
    "class MLPClassifier:\n",
    "    def __init__(self, num_hidden_layers=1, num_neurons=64, activation='relu', learning_rate=0.01, num_classes=6):\n",
    "        self.num_hidden_layers = num_hidden_layers\n",
    "        self.num_neurons = num_neurons\n",
    "        self.activation = activation\n",
    "        self.learning_rate = learning_rate\n",
    "        self.num_classes = num_classes\n",
    "        self.weights = []\n",
    "        self.biases = []\n",
    "        self.activations = [self.activation] * (num_hidden_layers + 1)\n",
    "        self.activations[-1] = 'softmax'\n",
    "    \n",
    "    def initialize_weights_and_biases(self, input_dim):\n",
    "        layer_sizes = [input_dim] + [self.num_neurons] * self.num_hidden_layers + [self.num_classes]\n",
    "        for i in range(1, len(layer_sizes)):\n",
    "            input_size, output_size = layer_sizes[i - 1], layer_sizes[i]\n",
    "            weight = np.random.randn(input_size, output_size) * 0.01\n",
    "            bias = np.zeros((1, output_size))\n",
    "            self.weights.append(weight)\n",
    "            self.biases.append(bias)\n",
    "\n",
    "    def one_hot_encode(self, y):\n",
    "        one_hot = np.zeros((len(y), self.num_classes))\n",
    "        one_hot[np.arange(len(y)), y - 3] = 1\n",
    "        return one_hot\n",
    "\n",
    "    def softmax(self, x):\n",
    "        exp_x = np.exp(x - np.max(x, axis=1, keepdims=True))\n",
    "        return exp_x / exp_x.sum(axis=1, keepdims=True)\n",
    "\n",
    "    def compute_loss(self, y_true, y_pred):\n",
    "        m = len(y_true)\n",
    "        loss = -1/m * np.sum(y_true * np.log(y_pred))\n",
    "        return loss\n",
    "\n",
    "    def activate(self, x, activation_type):\n",
    "        if activation_type == 'relu':\n",
    "            return np.maximum(0, x)\n",
    "        elif activation_type == 'sigmoid':\n",
    "            x = np.clip(x, -500, 500)\n",
    "            return 1 / (1 + np.exp(-x))\n",
    "        elif activation_type == 'tanh':\n",
    "            return np.tanh(x)\n",
    "        elif activation_type == 'softmax':\n",
    "            return self.softmax(x)\n",
    "\n",
    "    def d_relu(self, x):\n",
    "        return np.where(x > 0, 1, 0)\n",
    "\n",
    "    def d_sigmoid(self, x):\n",
    "        return x * (1 - x)\n",
    "\n",
    "    def d_tanh(self, x):\n",
    "        return 1 - np.tanh(x) ** 2\n",
    "\n",
    "    def forward_propagation(self, x):\n",
    "        z_values = []\n",
    "        a_values = [x]\n",
    "        for i in range(self.num_hidden_layers):\n",
    "            z = np.dot(a_values[i], self.weights[i]) + self.biases[i]\n",
    "            a = self.activate(z, self.activations[i])\n",
    "            z_values.append(z)\n",
    "            a_values.append(a)\n",
    "        \n",
    "        # Output layer with softmax activation\n",
    "        z = np.dot(a_values[-1], self.weights[-1]) + self.biases[-1]\n",
    "        a = self.activate(z, self.activations[-1])\n",
    "        z_values.append(z)\n",
    "        a_values.append(a)\n",
    "        \n",
    "        return z_values, a_values\n",
    "\n",
    "    def backward_propagation(self, x, y):\n",
    "        m = x.shape[0]\n",
    "        z_values, a_values = self.forward_propagation(x)\n",
    "        gradients = [None] * (self.num_hidden_layers + 1)\n",
    "        \n",
    "        # Compute gradient of the output layer\n",
    "        gradients[-1] = a_values[-1] - y\n",
    "        \n",
    "        # Backpropagate through hidden layers\n",
    "        for i in reversed(range(self.num_hidden_layers)):\n",
    "            if self.activations[i] == 'relu':\n",
    "                gradients[i] = np.dot(gradients[i + 1], self.weights[i + 1].T) * self.d_relu(a_values[i + 1])\n",
    "            elif self.activations[i] == 'sigmoid':\n",
    "                gradients[i] = np.dot(gradients[i + 1], self.weights[i + 1].T) * self.d_sigmoid(a_values[i + 1])\n",
    "            elif self.activations[i] == 'tanh':\n",
    "                gradients[i] = np.dot(gradients[i + 1], self.weights[i + 1].T) * self.d_tanh(a_values[i + 1])\n",
    "        \n",
    "        # Compute gradients for weights and biases\n",
    "        dW = [None] * (self.num_hidden_layers + 1)\n",
    "        db = [None] * (self.num_hidden_layers + 1)\n",
    "        for i in range(self.num_hidden_layers + 1):\n",
    "            dW[i] = np.dot(a_values[i].T, gradients[i]) / m\n",
    "            db[i] = np.sum(gradients[i], axis=0) / m\n",
    "        \n",
    "        return dW, db\n",
    "\n",
    "    def predict(self, x):\n",
    "        _, y_pred = self.forward_propagation(x)\n",
    "        shifted_y_pred = np.argmax(y_pred[-1], axis=1) + 3\n",
    "        return shifted_y_pred\n",
    "    \n",
    "    def sgd(self, x, y, num_epochs=1000):\n",
    "        input_dim = x.shape[1]\n",
    "        self.initialize_weights_and_biases(input_dim)\n",
    "        y_encoded = self.one_hot_encode(y)\n",
    "\n",
    "        m = x.shape[0]  # Number of training samples\n",
    "\n",
    "        for epoch in range(num_epochs):\n",
    "            for i in range(m):\n",
    "                # Select a random training sample (Stochastic Gradient Descent)\n",
    "                random_index = np.random.randint(0, m)\n",
    "                x_sample = x[random_index:random_index + 1]\n",
    "                y_sample = y_encoded[random_index:random_index + 1]\n",
    "\n",
    "                dW, db = self.backward_propagation(x_sample, y_sample)\n",
    "\n",
    "                for j in range(self.num_hidden_layers + 1):\n",
    "                    self.weights[j] -= self.learning_rate * dW[j]\n",
    "                    self.biases[j] -= self.learning_rate * db[j]\n",
    "\n",
    "                _, y_pred = self.forward_propagation(x)\n",
    "                loss = self.compute_loss(y_encoded, y_pred[-1])\n",
    "                wandb.log({f\"Loss Optimizer=SGD Epochs={num_epochs} Learning Rate={self.learning_rate} Num_hidden_layers={self.num_hidden_layers} Num_neurons={self.num_neurons} Activation={self.activation}\": loss})\n",
    "                self.evaluate_model(x,y)\n",
    "                \n",
    "            if (epoch + 1) % 100 == 0:\n",
    "                print(f\"SGD Epoch {epoch + 1}/{num_epochs}, Loss: {loss:.4f}\")\n",
    "\n",
    "        print(\"SGD Training complete!\")\n",
    "\n",
    "\n",
    "    def batch_gradient_descent(self, x, y, batch_size=32, num_epochs=1000):\n",
    "        input_dim = x.shape[1]\n",
    "        self.initialize_weights_and_biases(input_dim)\n",
    "        y_encoded = self.one_hot_encode(y)\n",
    "        \n",
    "        m = x.shape[0]  # Number of training samples\n",
    "        \n",
    "        for epoch in range(num_epochs):\n",
    "            for i in range(0, m, batch_size):\n",
    "                x_batch = x[i:i+batch_size]\n",
    "                y_batch = y_encoded[i:i+batch_size]\n",
    "                \n",
    "                dW, db = self.backward_propagation(x_batch, y_batch)\n",
    "                \n",
    "                for j in range(self.num_hidden_layers + 1):\n",
    "                    self.weights[j] -= self.learning_rate * dW[j]\n",
    "                    self.biases[j] -= self.learning_rate * db[j]\n",
    "            \n",
    "            _, y_pred = self.forward_propagation(x)\n",
    "            loss = self.compute_loss(y_encoded, y_pred[-1])\n",
    "            wandb.log({f\"Loss Optimizer=Batch Epochs={num_epochs} Learning Rate={self.learning_rate} Num_hidden_layers={self.num_hidden_layers} Num_neurons={self.num_neurons} Activation={self.activation}\": loss})\n",
    "            self.evaluate_model(x,y)\n",
    "            \n",
    "            if (epoch + 1) % 100 == 0:\n",
    "                print(f\"Batch Epoch {epoch + 1}/{num_epochs}, Loss: {loss:.4f}\")\n",
    "        \n",
    "        print(\"Batch Training complete!\")\n",
    "\n",
    "    def mini_batch_gradient_descent(self, x, y, batch_size=32, num_epochs=1000):\n",
    "        input_dim = x.shape[1]\n",
    "        self.initialize_weights_and_biases(input_dim)\n",
    "        y_encoded = self.one_hot_encode(y)\n",
    "        \n",
    "        m = x.shape[0]  # Number of training samples\n",
    "        \n",
    "        for epoch in range(num_epochs):\n",
    "            indices = np.arange(m)\n",
    "            np.random.shuffle(indices)\n",
    "            x_shuffled = x[indices]\n",
    "            y_shuffled = y_encoded[indices]\n",
    "            \n",
    "            for i in range(0, m, batch_size):\n",
    "                x_batch = x_shuffled[i:i+batch_size]\n",
    "                y_batch = y_shuffled[i:i+batch_size]\n",
    "                \n",
    "                dW, db = self.backward_propagation(x_batch, y_batch)\n",
    "                \n",
    "                for j in range(self.num_hidden_layers + 1):\n",
    "                    self.weights[j] -= self.learning_rate * dW[j]\n",
    "                    self.biases[j] -= self.learning_rate * db[j]\n",
    "            \n",
    "            _, y_pred = self.forward_propagation(x)\n",
    "            loss = self.compute_loss(y_encoded, y_pred[-1])\n",
    "            wandb.log({f\"Loss Optimizer=Mini_Batch Epochs={num_epochs} Learning Rate={self.learning_rate} Num_hidden_layers={self.num_hidden_layers} Num_neurons={self.num_neurons} Activation={self.activation}\": loss})\n",
    "            self.evaluate_model(x,y)\n",
    "            \n",
    "            if (epoch + 1) % 100 == 0:\n",
    "                print(f\"Mini_Batch Epoch {epoch + 1}/{num_epochs}, Loss: {loss:.4f}\")\n",
    "        \n",
    "        print(\"Mini_Batch Training complete!\")\n",
    "    \n",
    "    def evaluate_model(self,x, y,isTrain=True):\n",
    "        _, y_pred = self.forward_propagation(x)\n",
    "        shifted_y_pred = np.argmax(y_pred[-1], axis=1) + 3\n",
    "        accuracy = np.mean(shifted_y_pred == y)\n",
    "        if isTrain == True:\n",
    "            wandb.log({f\"Train_accuracy Learning Rate={self.learning_rate} Num_hidden_layers={self.num_hidden_layers} Num_neurons={self.num_neurons} Activation={self.activation}\": accuracy})\n",
    "        else:\n",
    "            wandb.log({f\"Validation_accuracy Learning Rate={self.learning_rate} Num_hidden_layers={self.num_hidden_layers} Num_neurons={self.num_neurons} Activation={self.activation}\": accuracy})\n",
    "\n"
   ]
  },
  {
   "cell_type": "code",
   "execution_count": 4,
   "metadata": {},
   "outputs": [
    {
     "data": {
      "text/html": [
       "Finishing last run (ID:1y82vopv) before initializing another..."
      ],
      "text/plain": [
       "<IPython.core.display.HTML object>"
      ]
     },
     "metadata": {},
     "output_type": "display_data"
    },
    {
     "data": {
      "text/html": [
       "Waiting for W&B process to finish... <strong style=\"color:green\">(success).</strong>"
      ],
      "text/plain": [
       "<IPython.core.display.HTML object>"
      ]
     },
     "metadata": {},
     "output_type": "display_data"
    },
    {
     "name": "stderr",
     "output_type": "stream",
     "text": [
      "wandb: ERROR Dropped streaming file chunk (see wandb/debug-internal.log)\n",
      "wandb: WARNING Source type is set to 'repo' but some required information is missing from the environment. A job will not be created from this run. See https://docs.wandb.ai/guides/launch/create-job\n"
     ]
    },
    {
     "data": {
      "text/html": [
       "<style>\n",
       "    table.wandb td:nth-child(1) { padding: 0 10px; text-align: left ; width: auto;} td:nth-child(2) {text-align: left ; width: 100%}\n",
       "    .wandb-row { display: flex; flex-direction: row; flex-wrap: wrap; justify-content: flex-start; width: 100% }\n",
       "    .wandb-col { display: flex; flex-direction: column; flex-basis: 100%; flex: 1; padding: 10px; }\n",
       "    </style>\n",
       "<div class=\"wandb-row\"><div class=\"wandb-col\"><h3>Run history:</h3><br/><table class=\"wandb\"><tr><td>Loss Optimizer=SGD Epochs=500 Learning Rate=0.01 Num_hidden_layers=1 Num_neurons=64 Activation=relu</td><td>█▆▄▃▃▂▂▂▂▂▂▂▂▂▂▂▂▂▂▂▁▂▁▁▁▁▁▁▁▁▁▁▁▁▁▁▁▁▁▁</td></tr><tr><td>Train_accuracy Learning Rate=0.01 Num_hidden_layers=1 Num_neurons=64 Activation=relu</td><td>▁▁▄▆▆▆▇▆▇▇▇▆▇▇▆▇▇▇▇▇█▇█▇▇███████████████</td></tr></table><br/></div><div class=\"wandb-col\"><h3>Run summary:</h3><br/><table class=\"wandb\"><tr><td>Loss Optimizer=SGD Epochs=500 Learning Rate=0.01 Num_hidden_layers=1 Num_neurons=64 Activation=relu</td><td>0.87221</td></tr><tr><td>Train_accuracy Learning Rate=0.01 Num_hidden_layers=1 Num_neurons=64 Activation=relu</td><td>0.6425</td></tr></table><br/></div></div>"
      ],
      "text/plain": [
       "<IPython.core.display.HTML object>"
      ]
     },
     "metadata": {},
     "output_type": "display_data"
    },
    {
     "data": {
      "text/html": [
       " View run <strong style=\"color:#cdcd00\">hearty-sky-1</strong> at: <a href='https://wandb.ai/ashishchokhani2910/q2_1/runs/1y82vopv' target=\"_blank\">https://wandb.ai/ashishchokhani2910/q2_1/runs/1y82vopv</a><br/>Synced 4 W&B file(s), 0 media file(s), 0 artifact file(s) and 0 other file(s)"
      ],
      "text/plain": [
       "<IPython.core.display.HTML object>"
      ]
     },
     "metadata": {},
     "output_type": "display_data"
    },
    {
     "data": {
      "text/html": [
       "Find logs at: <code>./wandb/run-20231023_213542-1y82vopv/logs</code>"
      ],
      "text/plain": [
       "<IPython.core.display.HTML object>"
      ]
     },
     "metadata": {},
     "output_type": "display_data"
    },
    {
     "data": {
      "text/html": [
       "Successfully finished last run (ID:1y82vopv). Initializing new run:<br/>"
      ],
      "text/plain": [
       "<IPython.core.display.HTML object>"
      ]
     },
     "metadata": {},
     "output_type": "display_data"
    },
    {
     "data": {
      "text/html": [
       "Tracking run with wandb version 0.15.12"
      ],
      "text/plain": [
       "<IPython.core.display.HTML object>"
      ]
     },
     "metadata": {},
     "output_type": "display_data"
    },
    {
     "data": {
      "text/html": [
       "Run data is saved locally in <code>/Users/ashishchokhani/Desktop/codes/SMAI/2021102016_Assignment_3/wandb/run-20231023_230126-exni7y5t</code>"
      ],
      "text/plain": [
       "<IPython.core.display.HTML object>"
      ]
     },
     "metadata": {},
     "output_type": "display_data"
    },
    {
     "data": {
      "text/html": [
       "Syncing run <strong><a href='https://wandb.ai/ashishchokhani2910/q2_1/runs/exni7y5t' target=\"_blank\">dulcet-waterfall-5</a></strong> to <a href='https://wandb.ai/ashishchokhani2910/q2_1' target=\"_blank\">Weights & Biases</a> (<a href='https://wandb.me/run' target=\"_blank\">docs</a>)<br/>"
      ],
      "text/plain": [
       "<IPython.core.display.HTML object>"
      ]
     },
     "metadata": {},
     "output_type": "display_data"
    },
    {
     "data": {
      "text/html": [
       " View project at <a href='https://wandb.ai/ashishchokhani2910/q2_1' target=\"_blank\">https://wandb.ai/ashishchokhani2910/q2_1</a>"
      ],
      "text/plain": [
       "<IPython.core.display.HTML object>"
      ]
     },
     "metadata": {},
     "output_type": "display_data"
    },
    {
     "data": {
      "text/html": [
       " View run at <a href='https://wandb.ai/ashishchokhani2910/q2_1/runs/exni7y5t' target=\"_blank\">https://wandb.ai/ashishchokhani2910/q2_1/runs/exni7y5t</a>"
      ],
      "text/plain": [
       "<IPython.core.display.HTML object>"
      ]
     },
     "metadata": {},
     "output_type": "display_data"
    },
    {
     "name": "stdout",
     "output_type": "stream",
     "text": [
      "SGD Epoch 100/100, Loss: 0.9661\n",
      "SGD Training complete!\n"
     ]
    },
    {
     "data": {
      "image/png": "[encoded data removed]",
      "text/plain": [
       "<Figure size 1000x600 with 2 Axes>"
      ]
     },
     "metadata": {},
     "output_type": "display_data"
    },
    {
     "name": "stdout",
     "output_type": "stream",
     "text": [
      "Hyperparameters for the Best Model:\n",
      "learning_rate: 0.01\n",
      "num_epochs: 100\n",
      "num_hidden_layers: 2\n",
      "num_neurons: 5\n",
      "activation: sigmoid\n",
      "optimizer: mini_batch_gradient_descent\n",
      "+---------------+------------------+-------------------------+-------------------+---------------------+-----------------------------+--------------------+--------------------+--------------------+--------------------+\n",
      "| Learning Rate | Number of Epochs | Number of Hidden Layers | Number of Neurons | Activation Function |          Optimizer          |      Accuracy      |      F1 Score      |     Precision      |       Recall       |\n",
      "+---------------+------------------+-------------------------+-------------------+---------------------+-----------------------------+--------------------+--------------------+--------------------+--------------------+\n",
      "|      0.01     |       100        |            2            |         5         |       sigmoid       | mini_batch_gradient_descent | 0.6198830409356725 | 0.5645029312114878 | 0.6819736842105264 | 0.6198830409356725 |\n",
      "+---------------+------------------+-------------------------+-------------------+---------------------+-----------------------------+--------------------+--------------------+--------------------+--------------------+\n",
      "Classification Report on Test Set:\n",
      "              precision    recall  f1-score   support\n",
      "\n",
      "           4       1.00      0.00      0.00         6\n",
      "           5       0.69      0.73      0.71        81\n",
      "           6       0.52      0.69      0.59        65\n",
      "           7       1.00      0.00      0.00        17\n",
      "           8       1.00      0.00      0.00         3\n",
      "\n",
      "    accuracy                           0.60       172\n",
      "   macro avg       0.84      0.28      0.26       172\n",
      "weighted avg       0.67      0.60      0.56       172\n",
      "\n"
     ]
    },
    {
     "data": {
      "text/html": [
       "Waiting for W&B process to finish... <strong style=\"color:green\">(success).</strong>"
      ],
      "text/plain": [
       "<IPython.core.display.HTML object>"
      ]
     },
     "metadata": {},
     "output_type": "display_data"
    },
    {
     "name": "stderr",
     "output_type": "stream",
     "text": [
      "wandb: WARNING Source type is set to 'repo' but some required information is missing from the environment. A job will not be created from this run. See https://docs.wandb.ai/guides/launch/create-job\n"
     ]
    },
    {
     "data": {
      "text/html": [
       "<style>\n",
       "    table.wandb td:nth-child(1) { padding: 0 10px; text-align: left ; width: auto;} td:nth-child(2) {text-align: left ; width: 100%}\n",
       "    .wandb-row { display: flex; flex-direction: row; flex-wrap: wrap; justify-content: flex-start; width: 100% }\n",
       "    .wandb-col { display: flex; flex-direction: column; flex-basis: 100%; flex: 1; padding: 10px; }\n",
       "    </style>\n",
       "<div class=\"wandb-row\"><div class=\"wandb-col\"><h3>Run history:</h3><br/><table class=\"wandb\"><tr><td>Loss Optimizer=SGD Epochs=100 Learning Rate=0.01 Num_hidden_layers=2 Num_neurons=5 Activation=sigmoid</td><td>███████████▇▇▇▆▅▄▃▃▃▂▂▂▂▂▂▂▂▁▂▁▁▂▁▁▁▁▁▁▁</td></tr><tr><td>Train_accuracy Learning Rate=0.01 Num_hidden_layers=2 Num_neurons=5 Activation=sigmoid</td><td>▂▁▁▂▁▂▂▂▂▁▂▂▁▂▅▆▇▆▇▇▇▇█▇█▇▇█▇▇▇█▇█▇█▇▇██</td></tr><tr><td>Validation_accuracy Learning Rate=0.01 Num_hidden_layers=2 Num_neurons=5 Activation=sigmoid</td><td>▁</td></tr></table><br/></div><div class=\"wandb-col\"><h3>Run summary:</h3><br/><table class=\"wandb\"><tr><td>Loss Optimizer=SGD Epochs=100 Learning Rate=0.01 Num_hidden_layers=2 Num_neurons=5 Activation=sigmoid</td><td>0.96609</td></tr><tr><td>Train_accuracy Learning Rate=0.01 Num_hidden_layers=2 Num_neurons=5 Activation=sigmoid</td><td>0.6025</td></tr><tr><td>Validation_accuracy Learning Rate=0.01 Num_hidden_layers=2 Num_neurons=5 Activation=sigmoid</td><td>0.61988</td></tr></table><br/></div></div>"
      ],
      "text/plain": [
       "<IPython.core.display.HTML object>"
      ]
     },
     "metadata": {},
     "output_type": "display_data"
    },
    {
     "data": {
      "text/html": [
       " View run <strong style=\"color:#cdcd00\">dulcet-waterfall-5</strong> at: <a href='https://wandb.ai/ashishchokhani2910/q2_1/runs/exni7y5t' target=\"_blank\">https://wandb.ai/ashishchokhani2910/q2_1/runs/exni7y5t</a><br/>Synced 5 W&B file(s), 0 media file(s), 0 artifact file(s) and 0 other file(s)"
      ],
      "text/plain": [
       "<IPython.core.display.HTML object>"
      ]
     },
     "metadata": {},
     "output_type": "display_data"
    },
    {
     "data": {
      "text/html": [
       "Find logs at: <code>./wandb/run-20231023_230126-exni7y5t/logs</code>"
      ],
      "text/plain": [
       "<IPython.core.display.HTML object>"
      ]
     },
     "metadata": {},
     "output_type": "display_data"
    }
   ],
   "source": [
    "from itertools import product\n",
    "from sklearn.metrics import accuracy_score, f1_score, precision_score, recall_score\n",
    "import matplotlib.pyplot as plt\n",
    "import pandas as pd\n",
    "import seaborn as sns\n",
    "from prettytable import PrettyTable\n",
    "from sklearn.metrics import classification_report\n",
    "\n",
    "wandb.init(project='q2_1',entity='ashishchokhani2910')\n",
    "best_accuracy = 0\n",
    "best_model = None\n",
    "best_hyperparameters = None\n",
    "\n",
    "# Define hyperparameters to tune\n",
    "learning_rates = [0.01, 0.001]\n",
    "num_epochs = [500, 1000]\n",
    "num_hidden_layers = [1, 2]\n",
    "num_neurons = [64, 128]\n",
    "activations = ['relu', 'sigmoid','tanh']\n",
    "optimizers = ['sgd', 'batch_gradient_descent', 'mini_batch_gradient_descent']\n",
    "\n",
    "# # Define hyperparameters to tune\n",
    "# learning_rates = [0.01]\n",
    "# num_epochs = [100]\n",
    "# num_hidden_layers = [2]\n",
    "# num_neurons = [5]\n",
    "# activations = ['sigmoid']\n",
    "# optimizers = ['mini_batch_gradient_descent']\n",
    "\n",
    "metrics_table = PrettyTable()\n",
    "metrics_table.field_names = [\"Learning Rate\", \"Number of Epochs\", \"Number of Hidden Layers\", \"Number of Neurons\", \"Activation Function\", \"Optimizer\", \"Accuracy\", \"F1 Score\", \"Precision\", \"Recall\"]\n",
    "\n",
    "\n",
    "# Initialize a dictionary to collect metrics and hyperparameters\n",
    "hyperparameter_metrics = {\n",
    "    'learning_rate': [],\n",
    "    'num_epochs': [],\n",
    "    'num_hidden_layers': [],\n",
    "    'num_neurons': [],\n",
    "    'activation': [],\n",
    "    'optimizer': [],\n",
    "    'Validation_accuracy': [],\n",
    "}\n",
    "\n",
    "# Perform hyperparameter tuning\n",
    "for lr, epochs, num_layers, num_neurons, activation, optimizer in product(learning_rates, num_epochs, num_hidden_layers, num_neurons, activations, optimizers):\n",
    "    \n",
    "    config = {\n",
    "        'learning_rate': lr,\n",
    "        'num_epochs': epochs,\n",
    "        'num_hidden_layers': num_layers,\n",
    "        'num_neurons': num_neurons,\n",
    "        'activation': activation,\n",
    "        'optimizer': optimizer\n",
    "    }\n",
    "    wandb.config.update(config)\n",
    "\n",
    "    model = MLPClassifier(\n",
    "        num_hidden_layers=num_layers,\n",
    "        num_neurons=num_neurons,\n",
    "        activation=activation,\n",
    "        learning_rate=lr\n",
    "    )\n",
    "    model.sgd(X_train_standardized, y_train, num_epochs=epochs)\n",
    "    model.evaluate_model(X_val_standardized,y_val,isTrain=False)\n",
    "    y_pred_val = model.predict(X_val_standardized)\n",
    "    \n",
    "    #Calculate and report metrics\n",
    "    accuracy = accuracy_score(y_val, y_pred_val)\n",
    "    f1 = f1_score(y_val, y_pred_val, average='weighted', zero_division=1) \n",
    "    precision = precision_score(y_val, y_pred_val, average='weighted', zero_division=1)\n",
    "    recall = recall_score(y_val, y_pred_val, average='weighted', zero_division=1)\n",
    "    \n",
    "    if accuracy > best_accuracy:\n",
    "        best_accuracy = accuracy\n",
    "        best_model = model\n",
    "        best_hyperparameters = {\n",
    "            'learning_rate': lr,\n",
    "            'num_epochs': epochs,\n",
    "            'num_hidden_layers': num_layers,\n",
    "            'num_neurons': num_neurons,\n",
    "            'activation': activation,\n",
    "            'optimizer': optimizer\n",
    "        }\n",
    "        \n",
    "    metrics_table.add_row([lr, epochs, num_layers, num_neurons, activation, optimizer, accuracy, f1, precision, recall])\n",
    "    \n",
    "    hyperparameter_metrics['learning_rate'].append(lr)\n",
    "    hyperparameter_metrics['num_epochs'].append(epochs)\n",
    "    hyperparameter_metrics['num_hidden_layers'].append(num_layers)\n",
    "    hyperparameter_metrics['num_neurons'].append(num_neurons)\n",
    "    hyperparameter_metrics['activation'].append(activation)\n",
    "    hyperparameter_metrics['optimizer'].append(optimizer)\n",
    "    hyperparameter_metrics['Validation_accuracy'].append(accuracy)\n",
    "\n",
    "df = pd.DataFrame(hyperparameter_metrics)\n",
    "hyperparameters = ['learning_rate', 'num_epochs', 'num_hidden_layers', 'num_neurons', 'activation', 'optimizer']\n",
    "\n",
    "# Create a pivot table for the heatmap\n",
    "pivot_table = df.pivot_table(index=hyperparameters, values='Validation_accuracy', aggfunc='mean')\n",
    "\n",
    "# Create a heatmap\n",
    "plt.figure(figsize=(10, 6))\n",
    "sns.heatmap(pivot_table, annot=True, cmap='YlGnBu')\n",
    "plt.title('Validation Accuracy Heatmap')\n",
    "plt.show()\n",
    "\n",
    "\n",
    "print(\"Hyperparameters for the Best Model:\")\n",
    "for param, value in best_hyperparameters.items():\n",
    "    print(f\"{param}: {value}\")\n",
    "\n",
    "print(metrics_table)\n",
    "\n",
    "y_pred_test = best_model.predict(X_test_standardized)\n",
    "unique_labels = sorted(set(y_test))\n",
    "target_names = [str(label) for label in unique_labels]\n",
    "\n",
    "report = classification_report(y_test, y_pred_test, target_names=target_names,zero_division=1)\n",
    "print(\"Classification Report on Test Set:\")\n",
    "print(report)\n",
    "\n",
    "# Finish the W&B run\n",
    "wandb.run.finish()\n"
   ]
  },
  {
   "cell_type": "markdown",
   "metadata": {},
   "source": [
    "## W&B report for above hyperparameters\n",
    "\n",
    "https://wandb.ai/ashishchokhani2910/q2_1/reports/MLP-Classifier--Vmlldzo1NzU2Njk0"
   ]
  },
  {
   "cell_type": "markdown",
   "metadata": {},
   "source": [
    "## Compare the results with the results of the logistic regression model with MLP\n",
    "\n",
    "# Model Complexity:\n",
    "\n",
    "- MLR is a linear model that assumes a linear relationship between input features and the log-odds of different classes. It's simple and interpretable but may not capture complex, nonlinear relationships.\n",
    "- MLP, on the other hand, is a neural network model that can capture complex nonlinear patterns in the data. It is inherently more flexible and can model intricate relationships.\n",
    "Feature Engineering:\n",
    "\n",
    "- MLR typically requires feature engineering to ensure that the input features are linearly separable. This can involve transformations or interactions between features.\n",
    "MLPs can automatically learn relevant features from the data, which can be an advantage when dealing with high-dimensional or unstructured data.\n",
    "Performance:\n",
    "\n",
    "# Interpretability:\n",
    "\n",
    "- MLR models are highly interpretable. We can easily understand the impact of each feature on the predicted class probabilities.\n",
    "- MLPs are less interpretable due to their complex, layered architecture. Understanding feature importance in an MLP is more challenging.\n",
    "# Overfitting:\n",
    "\n",
    "- MLR models are less prone to overfitting, especially when we have a small dataset or a limited number of features.\n",
    "- MLPs, with their greater complexity, can be more prone to overfitting. Regularization techniques and careful architecture design are often necessary to mitigate this risk."
   ]
  },
  {
   "cell_type": "code",
   "execution_count": 6,
   "metadata": {},
   "outputs": [],
   "source": [
    "import numpy as np\n",
    "import wandb\n",
    "\n",
    "class MLPClassifierMultilabel:\n",
    "    def __init__(self, num_hidden_layers=1, num_neurons=64, activation='relu', learning_rate=0.01, num_classes=6):\n",
    "        self.num_hidden_layers = num_hidden_layers\n",
    "        self.num_neurons = num_neurons\n",
    "        self.activation = activation\n",
    "        self.learning_rate = learning_rate\n",
    "        self.num_classes = num_classes\n",
    "        self.weights = []\n",
    "        self.biases = []\n",
    "        self.activations = [self.activation] * (num_hidden_layers + 1)\n",
    "        self.activations[-1] = 'sigmoid' \n",
    "\n",
    "    def initialize_weights_and_biases(self, input_dim):\n",
    "        layer_sizes = [input_dim] + [self.num_neurons] * self.num_hidden_layers + [self.num_classes]\n",
    "        for i in range(1, len(layer_sizes)):\n",
    "            input_size, output_size = layer_sizes[i - 1], layer_sizes[i]\n",
    "            weight = np.random.randn(input_size, output_size) * 0.01\n",
    "            bias = np.zeros((1, output_size))\n",
    "            self.weights.append(weight)\n",
    "            self.biases.append(bias)\n",
    "\n",
    "    def compute_loss(self, y_true, y_pred):\n",
    "        m = len(y_true)\n",
    "        loss = -1/m * np.sum(y_true * np.log(y_pred) + (1 - y_true) * np.log(1 - y_pred))\n",
    "        return loss\n",
    "\n",
    "    def activate(self, x, activation_type):\n",
    "        if activation_type == 'relu':\n",
    "            return np.maximum(0, x)\n",
    "        elif activation_type == 'sigmoid':\n",
    "            x = np.clip(x, -500, 500)\n",
    "            return 1 / (1 + np.exp(-x))\n",
    "        elif activation_type == 'tanh':\n",
    "            return np.tanh(x)\n",
    "\n",
    "    def d_relu(self, x):\n",
    "        return np.where(x > 0, 1, 0)\n",
    "\n",
    "    def d_sigmoid(self, x):\n",
    "        return x * (1 - x)\n",
    "\n",
    "    def d_tanh(self, x):\n",
    "        return 1 - np.tanh(x) ** 2\n",
    "\n",
    "    def forward_propagation(self, x):\n",
    "        z_values = []\n",
    "        a_values = [x]\n",
    "        for i in range(self.num_hidden_layers):\n",
    "            z = np.dot(a_values[i], self.weights[i]) + self.biases[i]\n",
    "            a = self.activate(z, self.activations[i])\n",
    "            z_values.append(z)\n",
    "            a_values.append(a)\n",
    "\n",
    "        # Output layer with sigmoid activation for multilabel classification\n",
    "        z = np.dot(a_values[-1], self.weights[-1]) + self.biases[-1]\n",
    "        a = self.activate(z, self.activations[-1])\n",
    "        z_values.append(z)\n",
    "        a_values.append(a)\n",
    "\n",
    "        return z_values, a_values\n",
    "\n",
    "    def backward_propagation(self, x, y):\n",
    "        m = x.shape[0]\n",
    "        z_values, a_values = self.forward_propagation(x)\n",
    "        gradients = [None] * (self.num_hidden_layers + 1)\n",
    "\n",
    "        # Compute gradient of the output layer\n",
    "        gradients[-1] = a_values[-1] - y\n",
    "\n",
    "        # Backpropagate through hidden layers\n",
    "        for i in reversed(range(self.num_hidden_layers)):\n",
    "            if self.activations[i] == 'relu':\n",
    "                gradients[i] = np.dot(gradients[i + 1], self.weights[i + 1].T) * self.d_relu(a_values[i + 1])\n",
    "            elif self.activations[i] == 'sigmoid':\n",
    "                gradients[i] = np.dot(gradients[i + 1], self.weights[i + 1].T) * self.d_sigmoid(a_values[i + 1])\n",
    "            elif self.activations[i] == 'tanh':\n",
    "                gradients[i] = np.dot(gradients[i + 1], self.weights[i + 1].T) * self.d_tanh(a_values[i + 1])\n",
    "\n",
    "        # Compute gradients for weights and biases\n",
    "        dW = [None] * (self.num_hidden_layers + 1)\n",
    "        db = [None] * (self.num_hidden_layers + 1)\n",
    "        for i in range(self.num_hidden_layers + 1):\n",
    "            dW[i] = np.dot(a_values[i].T, gradients[i]) / m\n",
    "            db[i] = np.sum(gradients[i], axis=0) / m\n",
    "\n",
    "        return dW, db\n",
    "\n",
    "    def predict(self, x, threshold=0.5):\n",
    "        _, y_pred = self.forward_propagation(x)\n",
    "        shifted_y_pred = (y_pred[-1] > threshold).astype(int)\n",
    "        return shifted_y_pred\n",
    "\n",
    "    def sgd(self, x, y, num_epochs=1000):\n",
    "        input_dim = x.shape[1]\n",
    "        self.initialize_weights_and_biases(input_dim)\n",
    "\n",
    "        m = x.shape[0]  # Number of training samples\n",
    "\n",
    "        for epoch in range(num_epochs):\n",
    "            for i in range(m):\n",
    "                # Select a random training sample (Stochastic Gradient Descent)\n",
    "                random_index = np.random.randint(0, m)\n",
    "                x_sample = x[random_index:random_index + 1]\n",
    "                y_sample = y[random_index:random_index + 1]\n",
    "\n",
    "                dW, db = self.backward_propagation(x_sample, y_sample)\n",
    "\n",
    "                for j in range(self.num_hidden_layers + 1):\n",
    "                    self.weights[j] -= self.learning_rate * dW[j]\n",
    "                    self.biases[j] -= self.learning_rate * db[j]\n",
    "\n",
    "                _, y_pred = self.forward_propagation(x)\n",
    "                loss = self.compute_loss(y, y_pred[-1])\n",
    "                wandb.log({f\"Loss Optimizer=SGD Epochs={num_epochs} Learning Rate={self.learning_rate} Num_hidden_layers={self.num_hidden_layers} Num_neurons={self.num_neurons} Activation={self.activation}\": loss})\n",
    "                self.evaluate_model(x, y)\n",
    "\n",
    "            if (epoch + 1) % 100 == 0:\n",
    "                print(f\"SGD Epoch {epoch + 1}/{num_epochs}, Loss: {loss:.4f}\")\n",
    "\n",
    "        print(\"SGD Training complete!\")\n",
    "        \n",
    "    def batch_gradient_descent(self, x, y, batch_size=32, num_epochs=1000):\n",
    "        input_dim = x.shape[1]\n",
    "        self.initialize_weights_and_biases(input_dim)\n",
    "        \n",
    "        m = x.shape[0]  # Number of training samples\n",
    "        \n",
    "        for epoch in range(num_epochs):\n",
    "            for i in range(0, m, batch_size):\n",
    "                x_batch = x[i:i+batch_size]\n",
    "                y_batch = y[i:i+batch_size]\n",
    "                \n",
    "                dW, db = self.backward_propagation(x_batch, y_batch)\n",
    "                \n",
    "                for j in range(self.num_hidden_layers + 1):\n",
    "                    self.weights[j] -= self.learning_rate * dW[j]\n",
    "                    self.biases[j] -= self.learning_rate * db[j]\n",
    "            \n",
    "            _, y_pred = self.forward_propagation(x)\n",
    "            loss = self.compute_loss(y, y_pred[-1])\n",
    "            wandb.log({f\"Loss Optimizer=Batch Epochs={num_epochs} Learning Rate={self.learning_rate} Num_hidden_layers={self.num_hidden_layers} Num_neurons={self.num_neurons} Activation={self.activation}\": loss})\n",
    "            self.evaluate_model(x,y)\n",
    "            \n",
    "            if (epoch + 1) % 100 == 0:\n",
    "                print(f\"Batch Epoch {epoch + 1}/{num_epochs}, Loss: {loss:.4f}\")\n",
    "        \n",
    "        print(\"Batch Training complete!\")\n",
    "\n",
    "    def mini_batch_gradient_descent(self, x, y, batch_size=32, num_epochs=1000):\n",
    "        input_dim = x.shape[1]\n",
    "        self.initialize_weights_and_biases(input_dim)\n",
    "        \n",
    "        m = x.shape[0]  # Number of training samples\n",
    "        \n",
    "        for epoch in range(num_epochs):\n",
    "            indices = np.arange(m)\n",
    "            np.random.shuffle(indices)\n",
    "            x_shuffled = x[indices]\n",
    "            y_shuffled = y[indices]\n",
    "            \n",
    "            for i in range(0, m, batch_size):\n",
    "                x_batch = x_shuffled[i:i+batch_size]\n",
    "                y_batch = y_shuffled[i:i+batch_size]\n",
    "                \n",
    "                dW, db = self.backward_propagation(x_batch, y_batch)\n",
    "                \n",
    "                for j in range(self.num_hidden_layers + 1):\n",
    "                    self.weights[j] -= self.learning_rate * dW[j]\n",
    "                    self.biases[j] -= self.learning_rate * db[j]\n",
    "            \n",
    "            _, y_pred = self.forward_propagation(x)\n",
    "            loss = self.compute_loss(y, y_pred[-1])\n",
    "            wandb.log({f\"Loss Optimizer=Mini_Batch Epochs={num_epochs} Learning Rate={self.learning_rate} Num_hidden_layers={self.num_hidden_layers} Num_neurons={self.num_neurons} Activation={self.activation}\": loss})\n",
    "            self.evaluate_model(x,y)\n",
    "            \n",
    "            if (epoch + 1) % 100 == 0:\n",
    "                print(f\"Mini_Batch Epoch {epoch + 1}/{num_epochs}, Loss: {loss:.4f}\")\n",
    "        \n",
    "        print(\"Mini_Batch Training complete!\")\n",
    "\n",
    "    def evaluate_model(self, x, y, isTrain=True):\n",
    "        _, y_pred = self.forward_propagation(x)\n",
    "        shifted_y_pred = (y_pred[-1] > 0.5).astype(int)\n",
    "        accuracy = np.mean(np.all(shifted_y_pred == y, axis=1))\n",
    "        if isTrain:\n",
    "            wandb.log({f\"Train_accuracy Learning Rate={self.learning_rate} Num_hidden_layers={self.num_hidden_layers} Num_neurons={self.num_neurons} Activation={self.activation}\": accuracy})\n",
    "        else:\n",
    "            wandb.log({f\"Validation_accuracy Learning Rate={self.learning_rate} Num_hidden_layers={self.num_hidden_layers} Num_neurons={self.num_neurons} Activation={self.activation}\": accuracy})"
   ]
  },
  {
   "cell_type": "code",
   "execution_count": 7,
   "metadata": {},
   "outputs": [
    {
     "data": {
      "text/html": [
       "Finishing last run (ID:7i7mfm9d) before initializing another..."
      ],
      "text/plain": [
       "<IPython.core.display.HTML object>"
      ]
     },
     "metadata": {},
     "output_type": "display_data"
    },
    {
     "data": {
      "text/html": [
       "Waiting for W&B process to finish... <strong style=\"color:green\">(success).</strong>"
      ],
      "text/plain": [
       "<IPython.core.display.HTML object>"
      ]
     },
     "metadata": {},
     "output_type": "display_data"
    },
    {
     "name": "stderr",
     "output_type": "stream",
     "text": [
      "wandb: WARNING Source type is set to 'repo' but some required information is missing from the environment. A job will not be created from this run. See https://docs.wandb.ai/guides/launch/create-job\n"
     ]
    },
    {
     "data": {
      "text/html": [
       " View run <strong style=\"color:#cdcd00\">expert-microwave-1</strong> at: <a href='https://wandb.ai/ashishchokhani2910/q2_4/runs/7i7mfm9d' target=\"_blank\">https://wandb.ai/ashishchokhani2910/q2_4/runs/7i7mfm9d</a><br/>Synced 4 W&B file(s), 0 media file(s), 0 artifact file(s) and 0 other file(s)"
      ],
      "text/plain": [
       "<IPython.core.display.HTML object>"
      ]
     },
     "metadata": {},
     "output_type": "display_data"
    },
    {
     "data": {
      "text/html": [
       "Find logs at: <code>./wandb/run-20231023_231407-7i7mfm9d/logs</code>"
      ],
      "text/plain": [
       "<IPython.core.display.HTML object>"
      ]
     },
     "metadata": {},
     "output_type": "display_data"
    },
    {
     "data": {
      "text/html": [
       "Successfully finished last run (ID:7i7mfm9d). Initializing new run:<br/>"
      ],
      "text/plain": [
       "<IPython.core.display.HTML object>"
      ]
     },
     "metadata": {},
     "output_type": "display_data"
    },
    {
     "data": {
      "text/html": [
       "Tracking run with wandb version 0.15.12"
      ],
      "text/plain": [
       "<IPython.core.display.HTML object>"
      ]
     },
     "metadata": {},
     "output_type": "display_data"
    },
    {
     "data": {
      "text/html": [
       "Run data is saved locally in <code>/Users/ashishchokhani/Desktop/codes/SMAI/2021102016_Assignment_3/wandb/run-20231023_231426-we763rn9</code>"
      ],
      "text/plain": [
       "<IPython.core.display.HTML object>"
      ]
     },
     "metadata": {},
     "output_type": "display_data"
    },
    {
     "data": {
      "text/html": [
       "Syncing run <strong><a href='https://wandb.ai/ashishchokhani2910/q2_4/runs/we763rn9' target=\"_blank\">rural-terrain-2</a></strong> to <a href='https://wandb.ai/ashishchokhani2910/q2_4' target=\"_blank\">Weights & Biases</a> (<a href='https://wandb.me/run' target=\"_blank\">docs</a>)<br/>"
      ],
      "text/plain": [
       "<IPython.core.display.HTML object>"
      ]
     },
     "metadata": {},
     "output_type": "display_data"
    },
    {
     "data": {
      "text/html": [
       " View project at <a href='https://wandb.ai/ashishchokhani2910/q2_4' target=\"_blank\">https://wandb.ai/ashishchokhani2910/q2_4</a>"
      ],
      "text/plain": [
       "<IPython.core.display.HTML object>"
      ]
     },
     "metadata": {},
     "output_type": "display_data"
    },
    {
     "data": {
      "text/html": [
       " View run at <a href='https://wandb.ai/ashishchokhani2910/q2_4/runs/we763rn9' target=\"_blank\">https://wandb.ai/ashishchokhani2910/q2_4/runs/we763rn9</a>"
      ],
      "text/plain": [
       "<IPython.core.display.HTML object>"
      ]
     },
     "metadata": {},
     "output_type": "display_data"
    },
    {
     "name": "stdout",
     "output_type": "stream",
     "text": [
      "SGD Epoch 100/1000, Loss: 4.9750\n",
      "SGD Epoch 200/1000, Loss: 4.8225\n",
      "SGD Epoch 300/1000, Loss: 4.4169\n",
      "SGD Epoch 400/1000, Loss: 4.2133\n",
      "SGD Epoch 500/1000, Loss: 4.1176\n",
      "SGD Epoch 600/1000, Loss: 4.0819\n",
      "SGD Epoch 700/1000, Loss: 4.0372\n",
      "SGD Epoch 800/1000, Loss: 4.0225\n",
      "SGD Epoch 900/1000, Loss: 4.0134\n",
      "SGD Epoch 1000/1000, Loss: 4.0047\n",
      "SGD Training complete!\n"
     ]
    },
    {
     "data": {
      "image/png": "[encoded data removed]",
      "text/plain": [
       "<Figure size 1000x600 with 2 Axes>"
      ]
     },
     "metadata": {},
     "output_type": "display_data"
    },
    {
     "name": "stdout",
     "output_type": "stream",
     "text": [
      "Hyperparameters for the Best Model:\n",
      "learning_rate: 0.01\n",
      "num_epochs: 1000\n",
      "num_hidden_layers: 2\n",
      "num_neurons: 5\n",
      "activation: sigmoid\n",
      "optimizer: batch_gradient_descent\n",
      "+---------------+------------------+-------------------------+-------------------+---------------------+------------------------+----------+--------------------+--------------------+--------------------+\n",
      "| Learning Rate | Number of Epochs | Number of Hidden Layers | Number of Neurons | Activation Function |       Optimizer        | Accuracy |      F1 Score      |     Precision      |       Recall       |\n",
      "+---------------+------------------+-------------------------+-------------------+---------------------+------------------------+----------+--------------------+--------------------+--------------------+\n",
      "|      0.01     |       1000       |            2            |         5         |       sigmoid       | batch_gradient_descent |   0.06   | 0.4647737941451349 | 0.5420410053533175 | 0.4166666666666667 |\n",
      "+---------------+------------------+-------------------------+-------------------+---------------------+------------------------+----------+--------------------+--------------------+--------------------+\n",
      "Classification Report on Test Set:\n",
      "              precision    recall  f1-score   support\n",
      "\n",
      "           0       0.76      0.42      0.54        53\n",
      "           1       0.67      0.38      0.49        52\n",
      "           2       0.57      0.48      0.52        56\n",
      "           3       0.59      0.46      0.52        50\n",
      "           4       0.56      0.45      0.50        49\n",
      "           5       0.36      0.34      0.35        47\n",
      "           6       0.33      0.30      0.32        46\n",
      "           7       0.88      0.48      0.62        48\n",
      "\n",
      "   micro avg       0.56      0.42      0.48       401\n",
      "   macro avg       0.59      0.41      0.48       401\n",
      "weighted avg       0.60      0.42      0.49       401\n",
      " samples avg       0.65      0.48      0.60       401\n",
      "\n"
     ]
    },
    {
     "data": {
      "text/html": [
       "Waiting for W&B process to finish... <strong style=\"color:green\">(success).</strong>"
      ],
      "text/plain": [
       "<IPython.core.display.HTML object>"
      ]
     },
     "metadata": {},
     "output_type": "display_data"
    },
    {
     "name": "stderr",
     "output_type": "stream",
     "text": [
      "wandb: WARNING Source type is set to 'repo' but some required information is missing from the environment. A job will not be created from this run. See https://docs.wandb.ai/guides/launch/create-job\n"
     ]
    },
    {
     "data": {
      "text/html": [
       "<style>\n",
       "    table.wandb td:nth-child(1) { padding: 0 10px; text-align: left ; width: auto;} td:nth-child(2) {text-align: left ; width: 100%}\n",
       "    .wandb-row { display: flex; flex-direction: row; flex-wrap: wrap; justify-content: flex-start; width: 100% }\n",
       "    .wandb-col { display: flex; flex-direction: column; flex-basis: 100%; flex: 1; padding: 10px; }\n",
       "    </style>\n",
       "<div class=\"wandb-row\"><div class=\"wandb-col\"><h3>Run history:</h3><br/><table class=\"wandb\"><tr><td>Loss Optimizer=SGD Epochs=1000 Learning Rate=0.01 Num_hidden_layers=2 Num_neurons=5 Activation=sigmoid</td><td>███▇▇▇▆▆▅▄▄▄▃▃▃▂▂▂▂▂▂▂▁▁▁▁▁▁▁▁▁▁▁▁▁▁▁▁▁▁</td></tr><tr><td>Train_accuracy Learning Rate=0.01 Num_hidden_layers=2 Num_neurons=5 Activation=sigmoid</td><td>▁▁▁▂▂▃▂▂▂▄▄▅▅▆▇▇▇▇▇▇▇▇▇██▇▇█▇▇▇▇▇▇▇▇▇▇▇█</td></tr><tr><td>Validation_accuracy Learning Rate=0.01 Num_hidden_layers=2 Num_neurons=5 Activation=sigmoid</td><td>▁</td></tr></table><br/></div><div class=\"wandb-col\"><h3>Run summary:</h3><br/><table class=\"wandb\"><tr><td>Loss Optimizer=SGD Epochs=1000 Learning Rate=0.01 Num_hidden_layers=2 Num_neurons=5 Activation=sigmoid</td><td>4.00469</td></tr><tr><td>Train_accuracy Learning Rate=0.01 Num_hidden_layers=2 Num_neurons=5 Activation=sigmoid</td><td>0.12</td></tr><tr><td>Validation_accuracy Learning Rate=0.01 Num_hidden_layers=2 Num_neurons=5 Activation=sigmoid</td><td>0.06</td></tr></table><br/></div></div>"
      ],
      "text/plain": [
       "<IPython.core.display.HTML object>"
      ]
     },
     "metadata": {},
     "output_type": "display_data"
    },
    {
     "data": {
      "text/html": [
       " View run <strong style=\"color:#cdcd00\">rural-terrain-2</strong> at: <a href='https://wandb.ai/ashishchokhani2910/q2_4/runs/we763rn9' target=\"_blank\">https://wandb.ai/ashishchokhani2910/q2_4/runs/we763rn9</a><br/>Synced 5 W&B file(s), 0 media file(s), 0 artifact file(s) and 0 other file(s)"
      ],
      "text/plain": [
       "<IPython.core.display.HTML object>"
      ]
     },
     "metadata": {},
     "output_type": "display_data"
    },
    {
     "data": {
      "text/html": [
       "Find logs at: <code>./wandb/run-20231023_231426-we763rn9/logs</code>"
      ],
      "text/plain": [
       "<IPython.core.display.HTML object>"
      ]
     },
     "metadata": {},
     "output_type": "display_data"
    }
   ],
   "source": [
    "from itertools import product\n",
    "from sklearn.metrics import accuracy_score, f1_score, precision_score, recall_score\n",
    "import matplotlib.pyplot as plt\n",
    "import pandas as pd\n",
    "import seaborn as sns\n",
    "from prettytable import PrettyTable\n",
    "from sklearn.metrics import classification_report\n",
    "from sklearn.model_selection import train_test_split\n",
    "from sklearn.preprocessing import StandardScaler, MinMaxScaler\n",
    "\n",
    "df = pd.read_csv('advertisement.csv')\n",
    "df = df.drop('city', axis=1)\n",
    "X = pd.get_dummies(df.drop('labels', axis=1), columns=['gender','education','married','occupation','most bought item'])\n",
    "X=np.array(X)\n",
    "X=X.astype(float)\n",
    "y = df['labels']\n",
    "\n",
    "# Process the labels into a suitable format for multilabel classification\n",
    "y = y.str.split()  # Split labels into lists of labels\n",
    "unique_labels = set(label for labels in y for label in labels)\n",
    "label_to_index = {label: i for i, label in enumerate(unique_labels)}\n",
    "\n",
    "# Map labels to binary format\n",
    "y_binary = np.zeros((len(y), len(unique_labels)), dtype=int)\n",
    "for i, labels in enumerate(y):\n",
    "    for label in labels:\n",
    "        y_binary[i, label_to_index[label]] = 1\n",
    "        \n",
    "\n",
    "# Split the data into training, validation, and testing sets\n",
    "X_train, X_temp, y_train, y_temp = train_test_split(X, y_binary, test_size=0.3, random_state=42)\n",
    "X_val, X_test, y_val, y_test = train_test_split(X_temp, y_temp, test_size=0.5, random_state=42)\n",
    "\n",
    "scaler = StandardScaler()\n",
    "X_train_standardized = scaler.fit_transform(X_train)\n",
    "X_val_standardized = scaler.transform(X_val)\n",
    "X_test_standardized = scaler.transform(X_test)\n",
    "\n",
    "# Initialize and train the model\n",
    "wandb.init(project='q2_4',entity='ashishchokhani2910')\n",
    "best_accuracy = 0\n",
    "best_model = None\n",
    "best_hyperparameters = None\n",
    "\n",
    "# Define hyperparameters to tune\n",
    "learning_rates = [0.01, 0.001]\n",
    "num_epochs = [500, 1000]\n",
    "num_hidden_layers = [1, 2]\n",
    "num_neurons = [64, 128]\n",
    "activations = ['relu', 'sigmoid','tanh']\n",
    "optimizers = ['sgd', 'batch_gradient_descent', 'mini_batch_gradient_descent']\n",
    "\n",
    "# # Define hyperparameters to tune\n",
    "# learning_rates = [0.01]\n",
    "# num_epochs = [1000]\n",
    "# num_hidden_layers = [2]\n",
    "# num_neurons = [5]\n",
    "# activations = ['sigmoid']\n",
    "# optimizers = ['batch_gradient_descent']\n",
    "\n",
    "metrics_table = PrettyTable()\n",
    "metrics_table.field_names = [\"Learning Rate\", \"Number of Epochs\", \"Number of Hidden Layers\", \"Number of Neurons\", \"Activation Function\", \"Optimizer\", \"Accuracy\", \"F1 Score\", \"Precision\", \"Recall\"]\n",
    "\n",
    "# Initialize a dictionary to collect metrics and hyperparameters\n",
    "hyperparameter_metrics = {\n",
    "    'learning_rate': [],\n",
    "    'num_epochs': [],\n",
    "    'num_hidden_layers': [],\n",
    "    'num_neurons': [],\n",
    "    'activation': [],\n",
    "    'optimizer': [],\n",
    "    'Validation_accuracy': [],\n",
    "}\n",
    "\n",
    "# Perform hyperparameter tuning\n",
    "for lr, epochs, num_layers, num_neurons, activation, optimizer in product(learning_rates, num_epochs, num_hidden_layers, num_neurons, activations, optimizers):\n",
    "    \n",
    "    config = {\n",
    "        'learning_rate': lr,\n",
    "        'num_epochs': epochs,\n",
    "        'num_hidden_layers': num_layers,\n",
    "        'num_neurons': num_neurons,\n",
    "        'activation': activation,\n",
    "        'optimizer': optimizer\n",
    "    }\n",
    "    wandb.config.update(config)\n",
    "\n",
    "    model = MLPClassifierMultilabel(\n",
    "        num_hidden_layers=num_layers,\n",
    "        num_neurons=num_neurons,\n",
    "        activation=activation,\n",
    "        learning_rate=lr,\n",
    "        num_classes=len(unique_labels)\n",
    "    )\n",
    "    model.sgd(X_train_standardized, y_train, num_epochs=epochs)\n",
    "    model.evaluate_model(X_val_standardized,y_val,isTrain=False)\n",
    "    y_pred_val = model.predict(X_val_standardized)\n",
    "    \n",
    "    #Calculate and report metrics\n",
    "    accuracy = accuracy_score(y_val, y_pred_val)\n",
    "    f1 = f1_score(y_val, y_pred_val, average='weighted', zero_division=1) \n",
    "    precision = precision_score(y_val, y_pred_val, average='weighted', zero_division=1)\n",
    "    recall = recall_score(y_val, y_pred_val, average='weighted', zero_division=1)\n",
    "    \n",
    "    if accuracy > best_accuracy:\n",
    "        best_accuracy = accuracy\n",
    "        best_model = model\n",
    "        best_hyperparameters = {\n",
    "            'learning_rate': lr,\n",
    "            'num_epochs': epochs,\n",
    "            'num_hidden_layers': num_layers,\n",
    "            'num_neurons': num_neurons,\n",
    "            'activation': activation,\n",
    "            'optimizer': optimizer\n",
    "        }\n",
    "        \n",
    "    metrics_table.add_row([lr, epochs, num_layers, num_neurons, activation, optimizer, accuracy, f1, precision, recall])\n",
    "    \n",
    "    hyperparameter_metrics['learning_rate'].append(lr)\n",
    "    hyperparameter_metrics['num_epochs'].append(epochs)\n",
    "    hyperparameter_metrics['num_hidden_layers'].append(num_layers)\n",
    "    hyperparameter_metrics['num_neurons'].append(num_neurons)\n",
    "    hyperparameter_metrics['activation'].append(activation)\n",
    "    hyperparameter_metrics['optimizer'].append(optimizer)\n",
    "    hyperparameter_metrics['Validation_accuracy'].append(accuracy)\n",
    "\n",
    "df = pd.DataFrame(hyperparameter_metrics)\n",
    "hyperparameters = ['learning_rate', 'num_epochs', 'num_hidden_layers', 'num_neurons', 'activation', 'optimizer']\n",
    "\n",
    "# Create a pivot table for the heatmap\n",
    "pivot_table = df.pivot_table(index=hyperparameters, values='Validation_accuracy', aggfunc='mean')\n",
    "\n",
    "# Create a heatmap\n",
    "plt.figure(figsize=(10, 6))\n",
    "sns.heatmap(pivot_table, annot=True, cmap='YlGnBu')\n",
    "plt.title('Validation Accuracy Heatmap')\n",
    "plt.show()\n",
    "\n",
    "print(\"Hyperparameters for the Best Model:\")\n",
    "for param, value in best_hyperparameters.items():\n",
    "    print(f\"{param}: {value}\")\n",
    "\n",
    "print(metrics_table)\n",
    "\n",
    "y_pred_test = best_model.predict(X_test_standardized)\n",
    "report = classification_report(y_test, y_pred_test,zero_division=1)\n",
    "print(\"Classification Report on Test Set:\")\n",
    "print(report)\n",
    "\n",
    "# Finish the W&B run\n",
    "wandb.run.finish()\n"
   ]
  },
  {
   "cell_type": "markdown",
   "metadata": {},
   "source": [
    "## W&B report for above hyperparameters\n",
    "\n",
    "https://wandb.ai/ashishchokhani2910/q2_4/reports/Multi-Label-Classsification--Vmlldzo1NzU2NzY2"
   ]
  }
 ],
 "metadata": {
  "kernelspec": {
   "display_name": "Python 3",
   "language": "python",
   "name": "python3"
  },
  "language_info": {
   "codemirror_mode": {
    "name": "ipython",
    "version": 3
   },
   "file_extension": ".py",
   "mimetype": "text/x-python",
   "name": "python",
   "nbconvert_exporter": "python",
   "pygments_lexer": "ipython3",
   "version": "3.11.5"
  },
  "orig_nbformat": 4
 },
 "nbformat": 4,
 "nbformat_minor": 2
}

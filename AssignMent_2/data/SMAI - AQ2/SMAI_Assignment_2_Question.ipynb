{
  "nbformat": 4,
  "nbformat_minor": 0,
  "metadata": {
    "colab": {
      "provenance": []
    },
    "kernelspec": {
      "name": "python3",
      "display_name": "Python 3"
    },
    "language_info": {
      "name": "python"
    }
  },
  "cells": [
    {
      "cell_type": "code",
      "execution_count": 1,
      "metadata": {
        "id": "O7R_cvvguw2_"
      },
      "outputs": [],
      "source": [
        "import pandas as pd\n",
        "import cv2\n",
        "import numpy as np\n",
        "import matplotlib.pyplot as plt\n"
      ]
    },
    {
      "cell_type": "markdown",
      "source": [
        "read the csv after finding horizontal threshold, vertical thresholds. make it such that it follows the given format\n",
        "\n",
        "final csv is the csv that has columns Id, Top-Left, Bottom-Right, Top, Left, Bottom, Right, Top_box, Bottom_box, Left_box, Right_box\n",
        "\n",
        "Id - refers to box ID -> int\n",
        "\n",
        "Top-Left,Bottom-Right - refers to the xy coordinates of topleft and bottomright coordinate of a bounding box\n",
        "\n",
        "Top/Left/Bottom/Right - refers to the coordinates of edge centers\n",
        "\n",
        "Top_box/Bottom_box/Left_box/Right_box - refers to the nearest box from current box such that the words across paragraphs or columns should not get connected -> List:[dist, nearest box ID]\n"
      ],
      "metadata": {
        "id": "ftOl9lMb_t1M"
      }
    },
    {
      "cell_type": "code",
      "source": [
        "df = pd.read_csv(PATH_TO_YOUR_FINAL_CSV)\n"
      ],
      "metadata": {
        "id": "wCfoR-1Pu89Z"
      },
      "execution_count": 2,
      "outputs": []
    },
    {
      "cell_type": "code",
      "source": [
        "img = cv2.imread('/content/159.jpg')"
      ],
      "metadata": {
        "id": "xPeFmZor1joq"
      },
      "execution_count": 7,
      "outputs": []
    },
    {
      "cell_type": "markdown",
      "source": [
        "Given below are two functions to visualize the document image and the connections established.\n",
        "\n",
        "visualize_bboxes() can be used to visualize a document image with the bounding boxes around words. Bounding box information is given in the CSVs provided\n",
        "\n",
        "make_connections() can be used to verify and visualize the connections established between words such that it satisfies the given criteria of grouping words in a logical paragraph. This function has to be used after getting the final csv in the specified format"
      ],
      "metadata": {
        "id": "ftgXotdHAIU4"
      }
    },
    {
      "cell_type": "code",
      "source": [
        "def visualize_bboxes(img):\n",
        "  img_2 = img.copy()\n",
        "  for index, rows in df.iterrows():\n",
        "    top_left = (int(rows['Top-Left'].split(',')[0][1:]),int(rows['Top-Left'].split(',')[1][:-1]))\n",
        "    bottom_right = (int(rows['Bottom-Right'].split(',')[0][1:]),int(rows['Bottom-Right'].split(',')[1][:-1]))\n",
        "    print(top_left)\n",
        "    cv2.rectangle(img_2, top_left, bottom_right, (255, 0, 0), 2)\n",
        "\n",
        "    plt.imshow(img_2)"
      ],
      "metadata": {
        "id": "S6PnO_1mvcR5"
      },
      "execution_count": 9,
      "outputs": []
    },
    {
      "cell_type": "code",
      "source": [
        "def make_connections(image):\n",
        "\n",
        "  image_rgb = cv2.cvtColor(image, cv2.COLOR_BGR2RGB)\n",
        "\n",
        "  image_with_boxes = image_rgb.copy()\n",
        "\n",
        "  for index, row in euclidean.iterrows():\n",
        "      left = int(row['Left'][0])\n",
        "      right = int(row['Right'][0])\n",
        "      top = int(row['Top'][1])\n",
        "      bottom = int(row['Bottom'][1])\n",
        "      box_id = int(row['Id'])\n",
        "\n",
        "      width = right - left\n",
        "      height = bottom - top\n",
        "\n",
        "      top_left = (left, top)\n",
        "      bottom_right = (right, bottom)\n",
        "\n",
        "      cv2.rectangle(image_with_boxes, top_left, bottom_right, (255, 0, 0), 2)\n",
        "\n",
        "      label_position = (left, top - 10)\n",
        "      cv2.putText(image_with_boxes, str(box_id), label_position, cv2.FONT_HERSHEY_SIMPLEX, 0.5, (0, 0, 255), 1)\n",
        "\n",
        "      top_adjacent_id = int(row['Top_Box'][1])\n",
        "      bottom_adjacent_id = int(row['Bottom_Box'][1])\n",
        "      left_adjacent_id = int(row['Left_Box'][1])\n",
        "      right_adjacent_id = int(row['Right_Box'][1])\n",
        "\n",
        "      if top_adjacent_id != 0:\n",
        "          top_adjacent_row = euclidean[euclidean['Id'] == top_adjacent_id].iloc[0]\n",
        "          top_adjacent_center = int(top_adjacent_row['Bottom'][0]) , int(top_adjacent_row['Bottom'][1])\n",
        "          cv2.line(image_with_boxes, (int(left) + width // 2, int(top)), top_adjacent_center, (0, 255, 0), 2)\n",
        "\n",
        "      if bottom_adjacent_id != 0:\n",
        "          bottom_adjacent_row = euclidean[euclidean['Id'] == bottom_adjacent_id].iloc[0]\n",
        "          bottom_adjacent_center = int(bottom_adjacent_row['Top'][0]) , int(bottom_adjacent_row['Top'][1])\n",
        "          cv2.line(image_with_boxes, (int(left) + width // 2, int(bottom)), (int(bottom_adjacent_center[0]), int(bottom_adjacent_center[1])), (0, 255, 0), 2)\n",
        "\n",
        "      if left_adjacent_id != 0:\n",
        "          left_adjacent_row = euclidean[euclidean['Id'] == left_adjacent_id].iloc[0]\n",
        "          left_adjacent_center = int(left_adjacent_row['Right'][0]) , int(left_adjacent_row['Right'][1])\n",
        "          cv2.line(image_with_boxes, (int(left), int(top) + height // 2), (int(left_adjacent_center[0]), int(left_adjacent_center[1])), (0, 255, 0), 2)\n",
        "\n",
        "      if right_adjacent_id != 0:\n",
        "          right_adjacent_row = euclidean[euclidean['Id'] == right_adjacent_id].iloc[0]\n",
        "          right_adjacent_center = int(right_adjacent_row['Left'][0]) , int(right_adjacent_row['Left'][1])\n",
        "          cv2.line(image_with_boxes, (int(right), int(top) + height // 2), (int(right_adjacent_center[0]), int(right_adjacent_center[1])), (0, 255, 0), 2)\n",
        "\n",
        "  return image_with_boxes"
      ],
      "metadata": {
        "id": "l1i2sG1HvgDR"
      },
      "execution_count": 10,
      "outputs": []
    },
    {
      "cell_type": "code",
      "source": [],
      "metadata": {
        "id": "OjyvlgeH77dY"
      },
      "execution_count": null,
      "outputs": []
    }
  ]
}
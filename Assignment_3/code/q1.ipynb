{
 "cells": [
  {
   "cell_type": "code",
   "execution_count": 2,
   "metadata": {},
   "outputs": [
    {
     "name": "stdout",
     "output_type": "stream",
     "text": [
      "      fixed acidity  volatile acidity  citric acid  residual sugar  chlorides  \\\n",
      "mean       8.311111          0.531339     0.268364        2.532152   0.086933   \n",
      "std        1.747595          0.179633     0.196686        1.355917   0.047267   \n",
      "min        4.600000          0.120000     0.000000        0.900000   0.012000   \n",
      "max       15.900000          1.580000     1.000000       15.500000   0.611000   \n",
      "\n",
      "      free sulfur dioxide  total sulfur dioxide   density        pH  \\\n",
      "mean            15.615486             45.914698  0.996730  3.311015   \n",
      "std             10.250486             32.782130  0.001925  0.156664   \n",
      "min              1.000000              6.000000  0.990070  2.740000   \n",
      "max             68.000000            289.000000  1.003690  4.010000   \n",
      "\n",
      "      sulphates    alcohol   quality  \n",
      "mean   0.657708  10.442111  5.657043  \n",
      "std    0.170399   1.082196  0.805824  \n",
      "min    0.330000   8.400000  3.000000  \n",
      "max    2.000000  14.900000  8.000000  \n"
     ]
    },
    {
     "data": {
      "image/png": "[encoded data removed]",
      "text/plain": [
       "<Figure size 800x600 with 1 Axes>"
      ]
     },
     "metadata": {},
     "output_type": "display_data"
    }
   ],
   "source": [
    "import pandas as pd\n",
    "import matplotlib.pyplot as plt\n",
    "from sklearn.model_selection import train_test_split\n",
    "from sklearn.preprocessing import StandardScaler, MinMaxScaler\n",
    "from sklearn.impute import SimpleImputer\n",
    "\n",
    "#-------Load the dataset and Print the statistics-------------\n",
    "wine_data = pd.read_csv(\"WineQT.csv\")\n",
    "wine_data = wine_data.drop(columns=['Id'])\n",
    "statistics = wine_data.agg(['mean', 'std', 'min', 'max'])\n",
    "print(statistics)\n",
    "\n",
    "#---a graph that shows the distribution of the various labels across the entire dataset----\n",
    "wine_quality = wine_data['quality']\n",
    "\n",
    "plt.figure(figsize=(8, 6))\n",
    "plt.hist(wine_quality, bins=range(3, 10), rwidth=0.8, color='skyblue', edgecolor='black')\n",
    "plt.xlabel('Wine Quality')\n",
    "plt.ylabel('Count')\n",
    "plt.title('Distribution of Wine Quality Labels')\n",
    "plt.xticks(range(3, 10))\n",
    "plt.grid(axis='y', alpha=0.75)\n",
    "plt.show()\n",
    "\n",
    "#---------Split the data into train (70%), validation (15%), and test (15%) sets--------\n",
    "X = wine_data.drop(columns=['quality'])\n",
    "y = wine_data['quality']\n",
    "X_train, X_temp, y_train, y_temp = train_test_split(X, y, test_size=0.3, random_state=42)\n",
    "X_val, X_test, y_val, y_test = train_test_split(X_temp, y_temp, test_size=0.5, random_state=42)\n",
    "\n",
    "#-------------------Normalise and standarize the data------------------\n",
    "# Handle missing data (if any)\n",
    "imputer = SimpleImputer(strategy='mean')\n",
    "X_train = imputer.fit_transform(X_train)\n",
    "X_val = imputer.transform(X_val)\n",
    "X_test = imputer.transform(X_test)\n",
    "\n",
    "# Normalize the data using Min-Max scaling\n",
    "scaler = MinMaxScaler()\n",
    "X_train_normalized = scaler.fit_transform(X_train)\n",
    "X_val_normalized = scaler.transform(X_val)\n",
    "X_test_normalized = scaler.transform(X_test)\n",
    "\n",
    "# Standardize the data (mean=0, std=1) using Z-score scaling\n",
    "scaler = StandardScaler()\n",
    "X_train_standardized = scaler.fit_transform(X_train)\n",
    "X_val_standardized = scaler.transform(X_val)\n",
    "X_test_standardized = scaler.transform(X_test)\n",
    "\n"
   ]
  },
  {
   "cell_type": "code",
   "execution_count": 6,
   "metadata": {},
   "outputs": [],
   "source": [
    "import numpy as np\n",
    "from sklearn.metrics import classification_report, accuracy_score, precision_score, recall_score, f1_score\n",
    "\n",
    "class MultinomialLogisticRegression:\n",
    "    def __init__(self, num_classes, learning_rate=0.001, max_iterations=30000):\n",
    "        self.num_classes = num_classes\n",
    "        self.learning_rate = learning_rate\n",
    "        self.max_iterations = max_iterations\n",
    "        self.weights = None\n",
    "        self.bias = None\n",
    "\n",
    "    def softmax(self, z):\n",
    "        # Softmax function to calculate class probabilities\n",
    "        exp_z = np.exp(z - np.max(z, axis=1, keepdims=True))\n",
    "        return exp_z / np.sum(exp_z, axis=1, keepdims=True)\n",
    "\n",
    "    def one_hot_encode(self, y):\n",
    "        # Convert class labels to one-hot encoding\n",
    "        one_hot = np.zeros((len(y), self.num_classes))\n",
    "        one_hot[np.arange(len(y)), y-3] = 1\n",
    "        return one_hot\n",
    "\n",
    "    def initialize_parameters(self, num_features):\n",
    "        # Initialize weights and bias\n",
    "        self.weights = np.random.randn(num_features, self.num_classes)\n",
    "        self.bias = np.zeros((1, self.num_classes))\n",
    "\n",
    "    def compute_loss(self, y_true, y_pred):\n",
    "        # Cross-entropy loss\n",
    "        m = len(y_true)\n",
    "        loss = -1/m * np.sum(y_true * np.log(y_pred))\n",
    "        return loss\n",
    "\n",
    "    def gradient_descent(self, X, y_true, y_pred):\n",
    "        # Compute gradients and update parameters\n",
    "        m = len(y_true)\n",
    "        dw = (1/m) * np.dot(X.T, (y_pred - y_true))\n",
    "        db = (1/m) * np.sum(y_pred - y_true, axis=0, keepdims=True)\n",
    "\n",
    "        self.weights -= self.learning_rate * dw\n",
    "        self.bias -= self.learning_rate * db\n",
    "\n",
    "    def fit(self, X, y):\n",
    "        num_samples, num_features = X.shape\n",
    "        y_encoded = self.one_hot_encode(y)\n",
    "        self.initialize_parameters(num_features)\n",
    "\n",
    "        for i in range(self.max_iterations):\n",
    "            z = np.dot(X, self.weights) + self.bias\n",
    "            y_pred = self.softmax(z)\n",
    "            loss = self.compute_loss(y_encoded, y_pred)\n",
    "            self.gradient_descent(X, y_encoded, y_pred)\n",
    "\n",
    "\n",
    "    def predict(self, X):\n",
    "        z = np.dot(X, self.weights) + self.bias\n",
    "        y_pred = self.softmax(z)\n",
    "        return np.argmax(y_pred, axis=1)\n",
    "    \n",
    "\n",
    "model = MultinomialLogisticRegression(num_classes=6)\n",
    "model.fit(X_train,y_train)\n",
    "y_val_pred = model.predict(X_val_standardized)+3\n"
   ]
  },
  {
   "cell_type": "code",
   "execution_count": 7,
   "metadata": {},
   "outputs": [
    {
     "name": "stdout",
     "output_type": "stream",
     "text": [
      "Training Accuracy: 62.12%\n",
      "Training Loss: 0.9861\n",
      "Classification Report on Validation Set:\n",
      "              precision    recall  f1-score   support\n",
      "\n",
      "           4       0.00      0.00      0.00         3\n",
      "           5       0.62      0.77      0.69        62\n",
      "           6       0.64      0.60      0.62        81\n",
      "           7       0.53      0.33      0.41        24\n",
      "           8       0.00      0.00      0.00         1\n",
      "\n",
      "    accuracy                           0.61       171\n",
      "   macro avg       0.36      0.34      0.34       171\n",
      "weighted avg       0.60      0.61      0.60       171\n",
      "\n",
      "Classification Report on Test Set:\n",
      "              precision    recall  f1-score   support\n",
      "\n",
      "           4       0.00      0.00      0.00         6\n",
      "           5       0.73      0.74      0.74        81\n",
      "           6       0.58      0.66      0.62        65\n",
      "           7       0.44      0.41      0.42        17\n",
      "           8       0.00      0.00      0.00         3\n",
      "\n",
      "    accuracy                           0.64       172\n",
      "   macro avg       0.35      0.36      0.36       172\n",
      "weighted avg       0.61      0.64      0.62       172\n",
      "\n"
     ]
    }
   ],
   "source": [
    "from sklearn.metrics import classification_report, accuracy_score\n",
    "\n",
    "# Initialize the model\n",
    "model = MultinomialLogisticRegression(num_classes=6)\n",
    "\n",
    "# Train the model on the training set\n",
    "model.fit(X_train_standardized, y_train)\n",
    "\n",
    "# Make predictions on the validation set\n",
    "y_val_pred = model.predict(X_val_standardized) + 3\n",
    "y_test_pred = model.predict(X_test_standardized) + 3\n",
    "\n",
    "# Calculate and print accuracy and loss on the training set\n",
    "y_train_pred = model.predict(X_train_standardized) + 3\n",
    "train_accuracy = accuracy_score(y_train, y_train_pred)\n",
    "\n",
    "z_train = np.dot(X_train_standardized, model.weights) + model.bias\n",
    "y_train_pred_prob = model.softmax(z_train)\n",
    "y_train_encoded = model.one_hot_encode(y_train)\n",
    "train_loss = model.compute_loss(y_train_encoded, y_train_pred_prob)\n",
    "\n",
    "print(f\"Training Accuracy: {train_accuracy * 100:.2f}%\")\n",
    "print(f\"Training Loss: {train_loss:.4f}\")\n",
    "\n",
    "# Print classification report and metrics on the validation set\n",
    "classification_rep = classification_report(y_val, y_val_pred, zero_division=0)\n",
    "print(\"Classification Report on Validation Set:\")\n",
    "print(classification_rep)"
   ]
  },
  {
   "cell_type": "code",
   "execution_count": 8,
   "metadata": {},
   "outputs": [
    {
     "name": "stderr",
     "output_type": "stream",
     "text": [
      "Failed to detect the name of this notebook, you can set it manually with the WANDB_NOTEBOOK_NAME environment variable to enable code saving.\n",
      "\u001b[34m\u001b[1mwandb\u001b[0m: Logging into wandb.ai. (Learn how to deploy a W&B server locally: https://wandb.me/wandb-server)\n",
      "\u001b[34m\u001b[1mwandb\u001b[0m: You can find your API key in your browser here: https://wandb.ai/authorize\n",
      "\u001b[34m\u001b[1mwandb\u001b[0m: Paste an API key from your profile and hit enter, or press ctrl+c to quit:\u001b[34m\u001b[1mwandb\u001b[0m: Appending key for api.wandb.ai to your netrc file: /Users/ashishchokhani/.netrc\n",
      "\u001b[34m\u001b[1mwandb\u001b[0m: \u001b[32m\u001b[41mERROR\u001b[0m Unable to read ~/.netrc\n"
     ]
    },
    {
     "data": {
      "text/html": [
       "Tracking run with wandb version 0.15.12"
      ],
      "text/plain": [
       "<IPython.core.display.HTML object>"
      ]
     },
     "metadata": {},
     "output_type": "display_data"
    },
    {
     "data": {
      "text/html": [
       "Run data is saved locally in <code>/Users/ashishchokhani/Desktop/codes/SMAI/2021102016_Assignment_3/wandb/run-20231023_212016-urom02cl</code>"
      ],
      "text/plain": [
       "<IPython.core.display.HTML object>"
      ]
     },
     "metadata": {},
     "output_type": "display_data"
    },
    {
     "data": {
      "text/html": [
       "Syncing run <strong><a href='https://wandb.ai/ashishchokhani2910/q1/runs/urom02cl' target=\"_blank\">dandy-breeze-1</a></strong> to <a href='https://wandb.ai/ashishchokhani2910/q1' target=\"_blank\">Weights & Biases</a> (<a href='https://wandb.me/run' target=\"_blank\">docs</a>)<br/>"
      ],
      "text/plain": [
       "<IPython.core.display.HTML object>"
      ]
     },
     "metadata": {},
     "output_type": "display_data"
    },
    {
     "data": {
      "text/html": [
       " View project at <a href='https://wandb.ai/ashishchokhani2910/q1' target=\"_blank\">https://wandb.ai/ashishchokhani2910/q1</a>"
      ],
      "text/plain": [
       "<IPython.core.display.HTML object>"
      ]
     },
     "metadata": {},
     "output_type": "display_data"
    },
    {
     "data": {
      "text/html": [
       " View run at <a href='https://wandb.ai/ashishchokhani2910/q1/runs/urom02cl' target=\"_blank\">https://wandb.ai/ashishchokhani2910/q1/runs/urom02cl</a>"
      ],
      "text/plain": [
       "<IPython.core.display.HTML object>"
      ]
     },
     "metadata": {},
     "output_type": "display_data"
    }
   ],
   "source": [
    "import wandb\n",
    "import numpy as np\n",
    "from sklearn.metrics import classification_report, accuracy_score\n",
    "\n",
    "# Initialize W&B\n",
    "wandb.init(project=\"q1\",entity=\"ashishchokhani2910\")\n",
    "\n",
    "# Define a function to train and evaluate the model\n",
    "def train_evaluate_model(learning_rate,max_iteration):\n",
    "    # Initialize the model with hyperparameters from the sweep\n",
    "    model = MultinomialLogisticRegression(num_classes=6, learning_rate=learning_rate, max_iterations=max_iteration)\n",
    "    model.fit(X_train_standardized, y_train)\n",
    "    y_val_pred = model.predict(X_val_standardized) + 3\n",
    "\n",
    "    # Calculate and log accuracy on the validation set\n",
    "    val_accuracy = accuracy_score(y_val, y_val_pred)\n",
    "    wandb.log({\"Validation Accuracy\": val_accuracy})\n",
    "\n",
    "    # Calculate and log training loss\n",
    "    z_train = np.dot(X_train_standardized, model.weights) + model.bias\n",
    "    y_train_pred_prob = model.softmax(z_train)\n",
    "    y_train_encoded = model.one_hot_encode(y_train)\n",
    "    train_loss = model.compute_loss(y_train_encoded, y_train_pred_prob)\n",
    "    wandb.log({\"Training Loss\": train_loss})\n",
    "    \n",
    "max_iterations=[1000,30000]\n",
    "learning_rates=[0.001,0.01]\n",
    "\n",
    "for max_iteration in max_iterations:\n",
    "    for learning_rate in learning_rates:\n",
    "        train_evaluate_model(learning_rate=learning_rate,max_iteration=max_iteration)\n"
   ]
  },
  {
   "cell_type": "markdown",
   "metadata": {},
   "source": [
    "# W&B report for above hyperparameters:\n",
    "\n",
    "https://wandb.ai/ashishchokhani2910/q1/reports/Impact-of-Hyperparameter-tuning--Vmlldzo1NzU1MTk5"
   ]
  },
  {
   "cell_type": "code",
   "execution_count": null,
   "metadata": {},
   "outputs": [
    {
     "name": "stdout",
     "output_type": "stream",
     "text": [
      "Classification Report on Test Set:\n",
      "               precision    recall  f1-score   support\n",
      "\n",
      "           4       0.00      0.00      0.00         6\n",
      "           5       0.70      0.70      0.70        81\n",
      "           6       0.51      0.62      0.56        65\n",
      "           7       0.50      0.29      0.37        17\n",
      "           8       0.33      0.33      0.33         3\n",
      "\n",
      "    accuracy                           0.60       172\n",
      "   macro avg       0.41      0.39      0.39       172\n",
      "weighted avg       0.58      0.60      0.59       172\n",
      "\n"
     ]
    }
   ],
   "source": [
    "# Make predictions on the test set\n",
    "y_test_pred = model.predict(X_test_standardized) + 3\n",
    "\n",
    "class_report = classification_report(y_test, y_test_pred,zero_division=0)\n",
    "print(\"Classification Report on Test Set:\\n\", class_report)"
   ]
  }
 ],
 "metadata": {
  "kernelspec": {
   "display_name": "Python 3",
   "language": "python",
   "name": "python3"
  },
  "language_info": {
   "codemirror_mode": {
    "name": "ipython",
    "version": 3
   },
   "file_extension": ".py",
   "mimetype": "text/x-python",
   "name": "python",
   "nbconvert_exporter": "python",
   "pygments_lexer": "ipython3",
   "version": "3.11.5"
  },
  "orig_nbformat": 4
 },
 "nbformat": 4,
 "nbformat_minor": 2
}

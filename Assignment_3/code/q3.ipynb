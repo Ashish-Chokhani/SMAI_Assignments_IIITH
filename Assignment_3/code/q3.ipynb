{
 "cells": [
  {
   "cell_type": "code",
   "execution_count": 1,
   "metadata": {},
   "outputs": [
    {
     "name": "stdout",
     "output_type": "stream",
     "text": [
      "           CRIM          ZN      INDUS      CHAS       NOX        RM  \\\n",
      "mean   3.611874   11.211934  11.083992  0.069959  0.554695  6.284634   \n",
      "std    8.720192   23.388876   6.835896  0.255340  0.115878  0.702617   \n",
      "min    0.006320    0.000000   0.460000  0.000000  0.385000  3.561000   \n",
      "max   88.976200  100.000000  27.740000  1.000000  0.871000  8.780000   \n",
      "\n",
      "             AGE        DIS        RAD         TAX    PTRATIO           B  \\\n",
      "mean   68.518519   3.795043   9.549407  408.237154  18.455534  356.674032   \n",
      "std    27.999513   2.105710   8.707259  168.537116   2.164946   91.294864   \n",
      "min     2.900000   1.129600   1.000000  187.000000  12.600000    0.320000   \n",
      "max   100.000000  12.126500  24.000000  711.000000  22.000000  396.900000   \n",
      "\n",
      "          LSTAT       MEDV  \n",
      "mean  12.715432  22.532806  \n",
      "std    7.155871   9.197104  \n",
      "min    1.730000   5.000000  \n",
      "max   37.970000  50.000000  \n"
     ]
    },
    {
     "data": {
      "image/png": "[encoded data removed]",
      "text/plain": [
       "<Figure size 800x600 with 1 Axes>"
      ]
     },
     "metadata": {},
     "output_type": "display_data"
    }
   ],
   "source": [
    "import pandas as pd\n",
    "import matplotlib.pyplot as plt\n",
    "from sklearn.model_selection import train_test_split\n",
    "from sklearn.preprocessing import StandardScaler, MinMaxScaler\n",
    "from sklearn.impute import SimpleImputer\n",
    "import numpy as np\n",
    "\n",
    "#-------Load the dataset and Print the statistics-------------\n",
    "housing_data = pd.read_csv(\"HousingData.csv\")\n",
    "statistics = housing_data.agg(['mean', 'std', 'min', 'max'])\n",
    "print(statistics)\n",
    "\n",
    "#---a graph that shows the distribution of the various labels across the entire dataset----\n",
    "housing_medv = housing_data['MEDV']\n",
    "\n",
    "plt.figure(figsize=(8, 6))\n",
    "plt.hist(housing_medv, bins=30, edgecolor='k', alpha=0.7)\n",
    "plt.xlabel('MEDV')\n",
    "plt.ylabel('Frequency')\n",
    "plt.title('Distribution of MEDV')\n",
    "plt.show()\n",
    "\n",
    "#---------Split the data into train (70%), validation (15%), and test (15%) sets--------\n",
    "X = housing_data.drop(columns=['MEDV'])\n",
    "y = housing_data['MEDV']\n",
    "y=np.array(y)\n",
    "y = y[:, np.newaxis]\n",
    "X_train, X_temp, y_train, y_temp = train_test_split(X, y, test_size=0.3, random_state=42)\n",
    "X_val, X_test, y_val, y_test = train_test_split(X_temp, y_temp, test_size=0.5, random_state=42)\n",
    "\n",
    "#-------------------Normalise and standarize the data------------------\n",
    "# Handle missing data (if any)\n",
    "imputer = SimpleImputer(strategy='mean')\n",
    "X_train = imputer.fit_transform(X_train)\n",
    "X_val = imputer.transform(X_val)\n",
    "X_test = imputer.transform(X_test)\n",
    "\n",
    "# Normalize the data using Min-Max scaling\n",
    "scaler = MinMaxScaler()\n",
    "X_train_normalized = scaler.fit_transform(X_train)\n",
    "X_val_normalized = scaler.transform(X_val)\n",
    "X_test_normalized = scaler.transform(X_test)\n",
    "\n",
    "# Standardize the data (mean=0, std=1) using Z-score scaling\n",
    "scaler = StandardScaler()\n",
    "X_train_standardized = scaler.fit_transform(X_train)\n",
    "X_val_standardized = scaler.transform(X_val)\n",
    "X_test_standardized = scaler.transform(X_test)"
   ]
  },
  {
   "cell_type": "code",
   "execution_count": 2,
   "metadata": {},
   "outputs": [],
   "source": [
    "import wandb\n",
    "import numpy as np\n",
    "\n",
    "class MLPRegressor:\n",
    "    def __init__(self, num_hidden_layers=1, num_neurons=64, activation='relu', learning_rate=0.01):\n",
    "        self.num_hidden_layers = num_hidden_layers\n",
    "        self.num_neurons = num_neurons\n",
    "        self.activation = activation\n",
    "        self.learning_rate = learning_rate\n",
    "        self.weights = []\n",
    "        self.biases = []\n",
    "        self.activations = [self.activation] * (num_hidden_layers + 1)\n",
    "        self.activations[-1] = 'linear'  # Use linear activation for regression\n",
    "\n",
    "    def initialize_weights_and_biases(self, input_dim):\n",
    "        layer_sizes = [input_dim] + [self.num_neurons] * self.num_hidden_layers + [1]  # Regression has one output\n",
    "        for i in range(1, len(layer_sizes)):\n",
    "            input_size, output_size = layer_sizes[i - 1], layer_sizes[i]\n",
    "            weight = np.random.randn(input_size, output_size) * 0.01\n",
    "            bias = np.zeros((1, output_size))\n",
    "            self.weights.append(weight)\n",
    "            self.biases.append(bias)\n",
    "\n",
    "    def compute_loss(self, y_true, y_pred):\n",
    "        m = len(y_true)\n",
    "        loss = 0.5 * np.mean((y_true - y_pred) ** 2)\n",
    "        return loss\n",
    "\n",
    "    def activate(self, x, activation_type):\n",
    "        if activation_type == 'relu':\n",
    "            return np.maximum(0, x)\n",
    "        elif activation_type == 'sigmoid':\n",
    "            x = np.clip(x, -500, 500)\n",
    "            return 1 / (1 + np.exp(-x))\n",
    "        elif activation_type == 'tanh':\n",
    "            return np.tanh(x)\n",
    "        elif activation_type == 'linear':\n",
    "            return x\n",
    "\n",
    "    def d_relu(self, x):\n",
    "        return np.where(x > 0, 1, 0)\n",
    "\n",
    "    def d_sigmoid(self, x):\n",
    "        return x * (1 - x)\n",
    "\n",
    "    def d_tanh(self, x):\n",
    "        return 1 - np.tanh(x) ** 2\n",
    "    \n",
    "    def d_linear(self, x):\n",
    "        return np.ones_like(x)\n",
    "\n",
    "    def forward_propagation(self, x):\n",
    "        z_values = []\n",
    "        a_values = [x]\n",
    "        for i in range(self.num_hidden_layers):\n",
    "            z = np.dot(a_values[i], self.weights[i]) + self.biases[i]\n",
    "            a = self.activate(z, self.activations[i])\n",
    "            z_values.append(z)\n",
    "            a_values.append(a)\n",
    "\n",
    "        # Output layer with linear activation for regression\n",
    "        z = np.dot(a_values[-1], self.weights[-1]) + self.biases[-1]\n",
    "        a = self.activate(z, self.activations[-1])\n",
    "        z_values.append(z)\n",
    "        a_values.append(a)\n",
    "\n",
    "        return z_values, a_values\n",
    "\n",
    "    def backward_propagation(self, x, y):\n",
    "        m = x.shape[0]\n",
    "        z_values, a_values = self.forward_propagation(x)\n",
    "        gradients = [None] * (self.num_hidden_layers + 1)\n",
    "\n",
    "        # Compute gradient of the output layer\n",
    "        gradients[-1] = (a_values[-1] - y) / m\n",
    "\n",
    "        # Backpropagate through hidden layers\n",
    "        for i in reversed(range(self.num_hidden_layers)):\n",
    "            if self.activations[i] == 'relu':\n",
    "                gradients[i] = np.dot(gradients[i + 1], self.weights[i + 1].T) * self.d_relu(a_values[i + 1])\n",
    "            elif self.activations[i] == 'sigmoid':\n",
    "                gradients[i] = np.dot(gradients[i + 1], self.weights[i + 1].T) * self.d_sigmoid(a_values[i + 1])\n",
    "            elif self.activations[i] == 'tanh':\n",
    "                gradients[i] = np.dot(gradients[i + 1], self.weights[i + 1].T) * self.d_tanh(a_values[i + 1])\n",
    "            elif self.activations[i] == 'linear':\n",
    "                gradients[i] = np.dot(gradients[i + 1], self.weights[i + 1].T) * self.d_linear(a_values[i + 1])\n",
    "\n",
    "        # Compute gradients for weights and biases\n",
    "        dW = [None] * (self.num_hidden_layers + 1)\n",
    "        db = [None] * (self.num_hidden_layers + 1)\n",
    "        for i in range(self.num_hidden_layers + 1):\n",
    "            dW[i] = np.dot(a_values[i].T, gradients[i])\n",
    "            db[i] = np.sum(gradients[i], axis=0)\n",
    "\n",
    "        return dW, db\n",
    "\n",
    "    def predict(self, x):\n",
    "        _, y_pred = self.forward_propagation(x)\n",
    "        return y_pred[-1]\n",
    "\n",
    "    def sgd(self, x, y, num_epochs=1000):\n",
    "        input_dim = x.shape[1]\n",
    "        self.initialize_weights_and_biases(input_dim)\n",
    "\n",
    "        m = x.shape[0]  # Number of training samples\n",
    "\n",
    "        for epoch in range(num_epochs):\n",
    "            for i in range(m):\n",
    "                # Select a random training sample (Stochastic Gradient Descent)\n",
    "                random_index = np.random.randint(0, m)\n",
    "                x_sample = x[random_index:random_index + 1]\n",
    "                y_sample = y[random_index:random_index + 1]\n",
    "\n",
    "                dW, db = self.backward_propagation(x_sample, y_sample)\n",
    "\n",
    "                for j in range(self.num_hidden_layers + 1):\n",
    "                    self.weights[j] -= self.learning_rate * dW[j]\n",
    "                    self.biases[j] -= self.learning_rate * db[j]\n",
    "\n",
    "                _, y_pred = self.forward_propagation(x)\n",
    "                loss = self.compute_loss(y, y_pred[-1])\n",
    "                wandb.log({f\"Loss Optimizer=SGD Epochs={num_epochs} Learning Rate={self.learning_rate} Num_hidden_layers={self.num_hidden_layers} Num_neurons={self.num_neurons} Activation={self.activation}\": loss})\n",
    "\n",
    "            if (epoch + 1) % 100 == 0:\n",
    "                print(f\"SGD Epoch {epoch + 1}/{num_epochs}, Loss: {loss:.4f}\")\n",
    "\n",
    "        print(\"SGD Training complete!\")\n",
    "        \n",
    "    def batch_gradient_descent(self, x, y, batch_size=32, num_epochs=1000):\n",
    "        input_dim = x.shape[1]\n",
    "        self.initialize_weights_and_biases(input_dim)\n",
    "        \n",
    "        m = x.shape[0]  # Number of training samples\n",
    "        \n",
    "        for epoch in range(num_epochs):\n",
    "            for i in range(0, m, batch_size):\n",
    "                x_batch = x[i:i+batch_size]\n",
    "                y_batch = y[i:i+batch_size]\n",
    "                \n",
    "                dW, db = self.backward_propagation(x_batch, y_batch)\n",
    "                \n",
    "                for j in range(self.num_hidden_layers + 1):\n",
    "                    self.weights[j] -= self.learning_rate * dW[j]\n",
    "                    self.biases[j] -= self.learning_rate * db[j]\n",
    "            \n",
    "            _, y_pred = self.forward_propagation(x)\n",
    "            loss = self.compute_loss(y, y_pred[-1])\n",
    "            wandb.log({f\"Loss Optimizer=Batch Epochs={num_epochs} Learning Rate={self.learning_rate} Num_hidden_layers={self.num_hidden_layers} Num_neurons={self.num_neurons} Activation={self.activation}\": loss})\n",
    "            \n",
    "            if (epoch + 1) % 100 == 0:\n",
    "                print(f\"Batch Epoch {epoch + 1}/{num_epochs}, Loss: {loss:.4f}\")\n",
    "        \n",
    "        print(\"Batch Training complete!\")\n",
    "\n",
    "    def mini_batch_gradient_descent(self, x, y, batch_size=32, num_epochs=1000):\n",
    "        input_dim = x.shape[1]\n",
    "        self.initialize_weights_and_biases(input_dim)\n",
    "        \n",
    "        m = x.shape[0]  # Number of training samples\n",
    "        \n",
    "        for epoch in range(num_epochs):\n",
    "            indices = np.arange(m)\n",
    "            np.random.shuffle(indices)\n",
    "            x_shuffled = x[indices]\n",
    "            y_shuffled = y[indices]\n",
    "            \n",
    "            for i in range(0, m, batch_size):\n",
    "                x_batch = x_shuffled[i:i+batch_size]\n",
    "                y_batch = y_shuffled[i:i+batch_size]\n",
    "                \n",
    "                dW, db = self.backward_propagation(x_batch, y_batch)\n",
    "                \n",
    "                for j in range(self.num_hidden_layers + 1):\n",
    "                    self.weights[j] -= self.learning_rate * dW[j]\n",
    "                    self.biases[j] -= self.learning_rate * db[j]\n",
    "            \n",
    "            _, y_pred = self.forward_propagation(x)\n",
    "            loss = self.compute_loss(y, y_pred[-1])\n",
    "            wandb.log({f\"Loss Optimizer=Mini_Batch Epochs={num_epochs} Learning Rate={self.learning_rate} Num_hidden_layers={self.num_hidden_layers} Num_neurons={self.num_neurons} Activation={self.activation}\": loss})\n",
    "            \n",
    "            if (epoch + 1) % 100 == 0:\n",
    "                print(f\"Mini_Batch Epoch {epoch + 1}/{num_epochs}, Loss: {loss:.4f}\")\n",
    "        \n",
    "        print(\"Mini_Batch Training complete!\")\n",
    "    \n",
    "    def evaluate_model(self,x,y):\n",
    "        _, y_pred = self.forward_propagation(x)\n",
    "        loss = self.compute_loss(y, y_pred[-1])\n",
    "        wandb.log({f\"Loss Optimizer=Mini_Batch Learning Rate={self.learning_rate} Num_hidden_layers={self.num_hidden_layers} Num_neurons={self.num_neurons} Activation={self.activation}\": loss})"
   ]
  },
  {
   "cell_type": "code",
   "execution_count": 35,
   "metadata": {},
   "outputs": [
    {
     "data": {
      "text/html": [
       "Finishing last run (ID:xbakogee) before initializing another..."
      ],
      "text/plain": [
       "<IPython.core.display.HTML object>"
      ]
     },
     "metadata": {},
     "output_type": "display_data"
    },
    {
     "data": {
      "text/html": [
       "Waiting for W&B process to finish... <strong style=\"color:green\">(success).</strong>"
      ],
      "text/plain": [
       "<IPython.core.display.HTML object>"
      ]
     },
     "metadata": {},
     "output_type": "display_data"
    },
    {
     "name": "stderr",
     "output_type": "stream",
     "text": [
      "wandb: WARNING Source type is set to 'repo' but some required information is missing from the environment. A job will not be created from this run. See https://docs.wandb.ai/guides/launch/create-job\n"
     ]
    },
    {
     "data": {
      "text/html": [
       "<style>\n",
       "    table.wandb td:nth-child(1) { padding: 0 10px; text-align: left ; width: auto;} td:nth-child(2) {text-align: left ; width: 100%}\n",
       "    .wandb-row { display: flex; flex-direction: row; flex-wrap: wrap; justify-content: flex-start; width: 100% }\n",
       "    .wandb-col { display: flex; flex-direction: column; flex-basis: 100%; flex: 1; padding: 10px; }\n",
       "    </style>\n",
       "<div class=\"wandb-row\"><div class=\"wandb-col\"><h3>Run history:</h3><br/><table class=\"wandb\"><tr><td>Loss Optimizer=Mini_Batch Learning Rate=0.01 Num_hidden_layers=2 Num_neurons=5 Activation=sigmoid</td><td>▁</td></tr><tr><td>Loss Optimizer=SGD Epochs=1000 Learning Rate=0.01 Num_hidden_layers=2 Num_neurons=5 Activation=sigmoid</td><td>█▅▄▂▂▃▂▂▂▃▃▄▂▂▂▂▁▁▁▁▁▁▁▃▃▃▃▃▃▂▃▃▃▂▃▂▃▂▃▂</td></tr></table><br/></div><div class=\"wandb-col\"><h3>Run summary:</h3><br/><table class=\"wandb\"><tr><td>Loss Optimizer=Mini_Batch Learning Rate=0.01 Num_hidden_layers=2 Num_neurons=5 Activation=sigmoid</td><td>5.06754</td></tr><tr><td>Loss Optimizer=SGD Epochs=1000 Learning Rate=0.01 Num_hidden_layers=2 Num_neurons=5 Activation=sigmoid</td><td>5.39037</td></tr></table><br/></div></div>"
      ],
      "text/plain": [
       "<IPython.core.display.HTML object>"
      ]
     },
     "metadata": {},
     "output_type": "display_data"
    },
    {
     "data": {
      "text/html": [
       " View run <strong style=\"color:#cdcd00\">different-serenity-17</strong> at: <a href='https://wandb.ai/ashishchokhani2910/regression_example/runs/xbakogee' target=\"_blank\">https://wandb.ai/ashishchokhani2910/regression_example/runs/xbakogee</a><br/>Synced 5 W&B file(s), 0 media file(s), 0 artifact file(s) and 0 other file(s)"
      ],
      "text/plain": [
       "<IPython.core.display.HTML object>"
      ]
     },
     "metadata": {},
     "output_type": "display_data"
    },
    {
     "data": {
      "text/html": [
       "Find logs at: <code>./wandb/run-20231023_012048-xbakogee/logs</code>"
      ],
      "text/plain": [
       "<IPython.core.display.HTML object>"
      ]
     },
     "metadata": {},
     "output_type": "display_data"
    },
    {
     "data": {
      "text/html": [
       "Successfully finished last run (ID:xbakogee). Initializing new run:<br/>"
      ],
      "text/plain": [
       "<IPython.core.display.HTML object>"
      ]
     },
     "metadata": {},
     "output_type": "display_data"
    },
    {
     "data": {
      "text/html": [
       "Tracking run with wandb version 0.15.12"
      ],
      "text/plain": [
       "<IPython.core.display.HTML object>"
      ]
     },
     "metadata": {},
     "output_type": "display_data"
    },
    {
     "data": {
      "text/html": [
       "Run data is saved locally in <code>/Users/ashishchokhani/Desktop/codes/SMAI/2021102016_Assignment_3/wandb/run-20231023_012457-noj74ass</code>"
      ],
      "text/plain": [
       "<IPython.core.display.HTML object>"
      ]
     },
     "metadata": {},
     "output_type": "display_data"
    },
    {
     "data": {
      "text/html": [
       "Syncing run <strong><a href='https://wandb.ai/ashishchokhani2910/regression_example/runs/noj74ass' target=\"_blank\">autumn-surf-18</a></strong> to <a href='https://wandb.ai/ashishchokhani2910/regression_example' target=\"_blank\">Weights & Biases</a> (<a href='https://wandb.me/run' target=\"_blank\">docs</a>)<br/>"
      ],
      "text/plain": [
       "<IPython.core.display.HTML object>"
      ]
     },
     "metadata": {},
     "output_type": "display_data"
    },
    {
     "data": {
      "text/html": [
       " View project at <a href='https://wandb.ai/ashishchokhani2910/regression_example' target=\"_blank\">https://wandb.ai/ashishchokhani2910/regression_example</a>"
      ],
      "text/plain": [
       "<IPython.core.display.HTML object>"
      ]
     },
     "metadata": {},
     "output_type": "display_data"
    },
    {
     "data": {
      "text/html": [
       " View run at <a href='https://wandb.ai/ashishchokhani2910/regression_example/runs/noj74ass' target=\"_blank\">https://wandb.ai/ashishchokhani2910/regression_example/runs/noj74ass</a>"
      ],
      "text/plain": [
       "<IPython.core.display.HTML object>"
      ]
     },
     "metadata": {},
     "output_type": "display_data"
    },
    {
     "name": "stdout",
     "output_type": "stream",
     "text": [
      "SGD Epoch 100/1000, Loss: 4.4626\n",
      "SGD Epoch 200/1000, Loss: 3.7785\n",
      "SGD Epoch 300/1000, Loss: 3.5614\n",
      "SGD Epoch 400/1000, Loss: 3.6114\n",
      "SGD Epoch 500/1000, Loss: 3.9872\n",
      "SGD Epoch 600/1000, Loss: 3.6247\n",
      "SGD Epoch 700/1000, Loss: 3.3578\n",
      "SGD Epoch 800/1000, Loss: 3.3101\n",
      "SGD Epoch 900/1000, Loss: 3.0701\n",
      "SGD Epoch 1000/1000, Loss: 3.2146\n",
      "SGD Training complete!\n",
      "Hyperparameters for the Best Model:\n",
      "learning_rate: 0.01\n",
      "num_epochs: 1000\n",
      "num_hidden_layers: 2\n",
      "num_neurons: 5\n",
      "activation: sigmoid\n",
      "optimizer: sgd\n",
      "+---------------+------------------+-------------------------+-------------------+---------------------+-----------+--------------------+-------------------+--------------------+\n",
      "| Learning Rate | Number of Epochs | Number of Hidden Layers | Number of Neurons | Activation Function | Optimizer |        MSE         |        RMSE       |     R-Squared      |\n",
      "+---------------+------------------+-------------------------+-------------------+---------------------+-----------+--------------------+-------------------+--------------------+\n",
      "|      0.01     |       1000       |            2            |         5         |       sigmoid       |    sgd    | 12.634104685227234 | 3.554448576815711 | 0.8178735803621102 |\n",
      "+---------------+------------------+-------------------------+-------------------+---------------------+-----------+--------------------+-------------------+--------------------+\n",
      "Regression Metrics on Test Set:\n",
      "MSE: 27.2820\n",
      "RMSE: 5.2232\n",
      "R-squared: 0.6567\n"
     ]
    },
    {
     "data": {
      "text/html": [
       "Waiting for W&B process to finish... <strong style=\"color:green\">(success).</strong>"
      ],
      "text/plain": [
       "<IPython.core.display.HTML object>"
      ]
     },
     "metadata": {},
     "output_type": "display_data"
    },
    {
     "name": "stderr",
     "output_type": "stream",
     "text": [
      "wandb: WARNING Source type is set to 'repo' but some required information is missing from the environment. A job will not be created from this run. See https://docs.wandb.ai/guides/launch/create-job\n"
     ]
    },
    {
     "data": {
      "text/html": [
       "<style>\n",
       "    table.wandb td:nth-child(1) { padding: 0 10px; text-align: left ; width: auto;} td:nth-child(2) {text-align: left ; width: 100%}\n",
       "    .wandb-row { display: flex; flex-direction: row; flex-wrap: wrap; justify-content: flex-start; width: 100% }\n",
       "    .wandb-col { display: flex; flex-direction: column; flex-basis: 100%; flex: 1; padding: 10px; }\n",
       "    </style>\n",
       "<div class=\"wandb-row\"><div class=\"wandb-col\"><h3>Run history:</h3><br/><table class=\"wandb\"><tr><td>Loss Optimizer=Mini_Batch Learning Rate=0.01 Num_hidden_layers=2 Num_neurons=5 Activation=sigmoid</td><td>▁</td></tr><tr><td>Loss Optimizer=SGD Epochs=1000 Learning Rate=0.01 Num_hidden_layers=2 Num_neurons=5 Activation=sigmoid</td><td>█▅▄▃▂▂▂▂▂▂▂▂▂▂▁▂▂▃▄▁▁▂▃▂▂▂▁▂▂▂▁▁▁▁▂▁▁▁▁▁</td></tr></table><br/></div><div class=\"wandb-col\"><h3>Run summary:</h3><br/><table class=\"wandb\"><tr><td>Loss Optimizer=Mini_Batch Learning Rate=0.01 Num_hidden_layers=2 Num_neurons=5 Activation=sigmoid</td><td>6.31705</td></tr><tr><td>Loss Optimizer=SGD Epochs=1000 Learning Rate=0.01 Num_hidden_layers=2 Num_neurons=5 Activation=sigmoid</td><td>3.21456</td></tr></table><br/></div></div>"
      ],
      "text/plain": [
       "<IPython.core.display.HTML object>"
      ]
     },
     "metadata": {},
     "output_type": "display_data"
    },
    {
     "data": {
      "text/html": [
       " View run <strong style=\"color:#cdcd00\">autumn-surf-18</strong> at: <a href='https://wandb.ai/ashishchokhani2910/regression_example/runs/noj74ass' target=\"_blank\">https://wandb.ai/ashishchokhani2910/regression_example/runs/noj74ass</a><br/>Synced 5 W&B file(s), 0 media file(s), 0 artifact file(s) and 0 other file(s)"
      ],
      "text/plain": [
       "<IPython.core.display.HTML object>"
      ]
     },
     "metadata": {},
     "output_type": "display_data"
    },
    {
     "data": {
      "text/html": [
       "Find logs at: <code>./wandb/run-20231023_012457-noj74ass/logs</code>"
      ],
      "text/plain": [
       "<IPython.core.display.HTML object>"
      ]
     },
     "metadata": {},
     "output_type": "display_data"
    }
   ],
   "source": [
    "from itertools import product\n",
    "from sklearn.metrics import mean_squared_error, r2_score\n",
    "import math\n",
    "import matplotlib.pyplot as plt\n",
    "import pandas as pd\n",
    "import seaborn as sns\n",
    "from prettytable import PrettyTable\n",
    "from sklearn.metrics import classification_report\n",
    "\n",
    "\n",
    "# Initialize and train the model\n",
    "wandb.init(project=\"regression_example\", entity=\"ashishchokhani2910\")\n",
    "best_mse = float('inf')\n",
    "best_model = None\n",
    "best_hyperparameters = None\n",
    "\n",
    "# Define hyperparameters to tune\n",
    "learning_rates = [0.01, 0.001]\n",
    "num_epochs = [500, 1000]\n",
    "num_hidden_layers = [1, 2]\n",
    "num_neurons = [64, 128]\n",
    "activations = ['relu', 'sigmoid','tanh']\n",
    "optimizers = ['sgd', 'batch_gradient_descent', 'mini_batch_gradient_descent']\n",
    "\n",
    "# # Define hyperparameters to tune\n",
    "# learning_rates = [0.01]\n",
    "# num_epochs = [1000]\n",
    "# num_hidden_layers = [2]\n",
    "# num_neurons = [5]\n",
    "# activations = ['sigmoid']\n",
    "# optimizers = ['sgd']\n",
    "\n",
    "metrics_table = PrettyTable()\n",
    "metrics_table.field_names = [\"Learning Rate\", \"Number of Epochs\", \"Number of Hidden Layers\", \"Number of Neurons\", \"Activation Function\", \"Optimizer\",\"MSE\",\"RMSE\",\"R-Squared\"]\n",
    "\n",
    "\n",
    "# Initialize a dictionary to collect metrics and hyperparameters\n",
    "hyperparameter_metrics = {\n",
    "    'learning_rate': [],\n",
    "    'num_epochs': [],\n",
    "    'num_hidden_layers': [],\n",
    "    'num_neurons': [],\n",
    "    'activation': [],\n",
    "    'optimizer': [],\n",
    "    'MSE': [],\n",
    "    'RMSE': [],\n",
    "    'R2': [],\n",
    "}\n",
    "\n",
    "# Perform hyperparameter tuning\n",
    "for lr, epochs, num_layers, num_neurons, activation, optimizer in product(learning_rates, num_epochs, num_hidden_layers, num_neurons, activations, optimizers):\n",
    "    \n",
    "    config = {\n",
    "        'learning_rate': lr,\n",
    "        'num_epochs': epochs,\n",
    "        'num_hidden_layers': num_layers,\n",
    "        'num_neurons': num_neurons,\n",
    "        'activation': activation,\n",
    "        'optimizer': optimizer\n",
    "    }\n",
    "    wandb.config.update(config)\n",
    "\n",
    "    model = MLPRegressor(\n",
    "        num_hidden_layers=num_layers,\n",
    "        num_neurons=num_neurons,\n",
    "        activation=activation,\n",
    "        learning_rate=lr,\n",
    "    )\n",
    "    model.sgd(X_train_standardized, y_train, num_epochs=epochs)\n",
    "    model.evaluate_model(X_val_standardized,y_val)\n",
    "    y_pred_val = model.predict(X_val_standardized)\n",
    "    \n",
    "    #Calculate and report metrics\n",
    "    mse = mean_squared_error(y_val, y_pred_val)\n",
    "    rmse = math.sqrt(mse)\n",
    "    r2 = r2_score(y_val, y_pred_val)\n",
    "    \n",
    "    if mse < best_mse:  # We want to minimize MSE\n",
    "        best_mse = mse\n",
    "        best_model = model\n",
    "        best_hyperparameters = {\n",
    "            'learning_rate': lr,\n",
    "            'num_epochs': epochs,\n",
    "            'num_hidden_layers': num_layers,\n",
    "            'num_neurons': num_neurons,\n",
    "            'activation': activation,\n",
    "            'optimizer': optimizer\n",
    "        }\n",
    "        \n",
    "    metrics_table.add_row([lr, epochs, num_layers, num_neurons, activation, optimizer, mse, rmse, r2])\n",
    "    \n",
    "    hyperparameter_metrics['learning_rate'].append(lr)\n",
    "    hyperparameter_metrics['num_epochs'].append(epochs)\n",
    "    hyperparameter_metrics['num_hidden_layers'].append(num_layers)\n",
    "    hyperparameter_metrics['num_neurons'].append(num_neurons)\n",
    "    hyperparameter_metrics['activation'].append(activation)\n",
    "    hyperparameter_metrics['optimizer'].append(optimizer)\n",
    "    hyperparameter_metrics['MSE'].append(mse)\n",
    "    hyperparameter_metrics['RMSE'].append(rmse)\n",
    "    hyperparameter_metrics['R2'].append(r2)\n",
    "\n",
    "\n",
    "print(\"Hyperparameters for the Best Model:\")\n",
    "for param, value in best_hyperparameters.items():\n",
    "    print(f\"{param}: {value}\")\n",
    "\n",
    "print(metrics_table)\n",
    "\n",
    "y_pred_test = best_model.predict(X_test_standardized)\n",
    "mse_test = mean_squared_error(y_test, y_pred_test)\n",
    "rmse_test = math.sqrt(mse_test)\n",
    "r2_test = r2_score(y_test, y_pred_test)\n",
    "report = f\"MSE: {mse_test:.4f}\\nRMSE: {rmse_test:.4f}\\nR-squared: {r2_test:.4f}\"\n",
    "\n",
    "print(\"Regression Metrics on Test Set:\")\n",
    "print(report)\n",
    "\n",
    "\n",
    "# Finish the W&B run\n",
    "wandb.run.finish()\n"
   ]
  },
  {
   "cell_type": "markdown",
   "metadata": {},
   "source": [
    "## W&B report for above hyperparameters\n",
    "\n",
    "https://wandb.ai/ashishchokhani2910/q3/reports/Performance-of-MLP-on-Regression--Vmlldzo1NzU2Mjc3"
   ]
  }
 ],
 "metadata": {
  "kernelspec": {
   "display_name": "Python 3",
   "language": "python",
   "name": "python3"
  },
  "language_info": {
   "codemirror_mode": {
    "name": "ipython",
    "version": 3
   },
   "file_extension": ".py",
   "mimetype": "text/x-python",
   "name": "python",
   "nbconvert_exporter": "python",
   "pygments_lexer": "ipython3",
   "version": "3.11.5"
  }
 },
 "nbformat": 4,
 "nbformat_minor": 2
}
